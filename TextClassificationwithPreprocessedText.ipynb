{
  "nbformat": 4,
  "nbformat_minor": 0,
  "metadata": {
    "colab": {
      "name": "TextClassificationwithPreprocessedText.ipynb",
      "provenance": [],
      "collapsed_sections": [],
      "include_colab_link": true
    },
    "kernelspec": {
      "name": "python3",
      "display_name": "Python 3"
    }
  },
  "cells": [
    {
      "cell_type": "markdown",
      "metadata": {
        "id": "view-in-github",
        "colab_type": "text"
      },
      "source": [
        "<a href=\"https://colab.research.google.com/github/JungAh12/Everyone_TF2.0/blob/master/TextClassificationwithPreprocessedText.ipynb\" target=\"_parent\"><img src=\"https://colab.research.google.com/assets/colab-badge.svg\" alt=\"Open In Colab\"/></a>"
      ]
    },
    {
      "cell_type": "markdown",
      "metadata": {
        "id": "psn_apNR7QKY",
        "colab_type": "text"
      },
      "source": [
        "#영화 리뷰를 사용한 텍스트 분류"
      ]
    },
    {
      "cell_type": "code",
      "metadata": {
        "id": "0E_R3Txj76ST",
        "colab_type": "code",
        "colab": {
          "base_uri": "https://localhost:8080/",
          "height": 163
        },
        "outputId": "e92261e0-264c-4604-d6a0-7bc630f45bcc"
      },
      "source": [
        "!pip install -q tf-nightly-2.0-preview\n",
        "import tensorflow as tf\n",
        "from tensorflow import keras\n",
        "\n",
        "import numpy as np\n",
        "\n",
        "print(tf.__version__)"
      ],
      "execution_count": 1,
      "outputs": [
        {
          "output_type": "stream",
          "text": [
            "\u001b[K     |████████████████████████████████| 95.2MB 66kB/s \n",
            "\u001b[K     |████████████████████████████████| 450kB 49.5MB/s \n",
            "\u001b[K     |████████████████████████████████| 3.8MB 43.0MB/s \n",
            "\u001b[K     |████████████████████████████████| 81kB 11.5MB/s \n",
            "\u001b[31mERROR: google-colab 1.0.0 has requirement google-auth~=1.4.0, but you'll have google-auth 1.7.1 which is incompatible.\u001b[0m\n",
            "\u001b[31mERROR: tb-nightly 2.1.0a20191201 has requirement grpcio>=1.24.3, but you'll have grpcio 1.15.0 which is incompatible.\u001b[0m\n",
            "\u001b[?25h2.0.0-dev20191002\n"
          ],
          "name": "stdout"
        }
      ]
    },
    {
      "cell_type": "markdown",
      "metadata": {
        "id": "J-izF8748MKt",
        "colab_type": "text"
      },
      "source": [
        "#IMDB 데이터셋 다운로드\n",
        "\n",
        "num_words=10000은 train data에서 가장 많이 등장하는 상위 10000개의 단어를 선택한다."
      ]
    },
    {
      "cell_type": "code",
      "metadata": {
        "id": "8xH6SH_P8QXW",
        "colab_type": "code",
        "colab": {
          "base_uri": "https://localhost:8080/",
          "height": 53
        },
        "outputId": "b79e3e00-3d00-47dd-9b51-8f0504c0d119"
      },
      "source": [
        "imdb = keras.datasets.imdb\n",
        "\n",
        "(train_data, train_labels),(test_data,test_labels) = imdb.load_data(num_words=10000)"
      ],
      "execution_count": 2,
      "outputs": [
        {
          "output_type": "stream",
          "text": [
            "Downloading data from https://storage.googleapis.com/tensorflow/tf-keras-datasets/imdb.npz\n",
            "17465344/17464789 [==============================] - 0s 0us/step\n"
          ],
          "name": "stdout"
        }
      ]
    },
    {
      "cell_type": "markdown",
      "metadata": {
        "id": "BMsQyZ9jEK_z",
        "colab_type": "text"
      },
      "source": [
        "#데이터 형태 살펴보기"
      ]
    },
    {
      "cell_type": "code",
      "metadata": {
        "id": "JJk6GpC36vVD",
        "colab_type": "code",
        "colab": {
          "base_uri": "https://localhost:8080/",
          "height": 35
        },
        "outputId": "84842d26-e1a3-4eaa-d337-f9f057486386"
      },
      "source": [
        "print(\"훈련 샘플 : {}, 레이블 : {}\".format(len(train_data), len(train_labels)))"
      ],
      "execution_count": 3,
      "outputs": [
        {
          "output_type": "stream",
          "text": [
            "훈련 샘플 : 25000, 레이블 : 25000\n"
          ],
          "name": "stdout"
        }
      ]
    },
    {
      "cell_type": "code",
      "metadata": {
        "id": "wbI0H6pu61fJ",
        "colab_type": "code",
        "colab": {
          "base_uri": "https://localhost:8080/",
          "height": 55
        },
        "outputId": "e092a990-2fd5-46ca-f5e8-ab37988a99e8"
      },
      "source": [
        "print(train_data[0])"
      ],
      "execution_count": 4,
      "outputs": [
        {
          "output_type": "stream",
          "text": [
            "[1, 14, 22, 16, 43, 530, 973, 1622, 1385, 65, 458, 4468, 66, 3941, 4, 173, 36, 256, 5, 25, 100, 43, 838, 112, 50, 670, 2, 9, 35, 480, 284, 5, 150, 4, 172, 112, 167, 2, 336, 385, 39, 4, 172, 4536, 1111, 17, 546, 38, 13, 447, 4, 192, 50, 16, 6, 147, 2025, 19, 14, 22, 4, 1920, 4613, 469, 4, 22, 71, 87, 12, 16, 43, 530, 38, 76, 15, 13, 1247, 4, 22, 17, 515, 17, 12, 16, 626, 18, 2, 5, 62, 386, 12, 8, 316, 8, 106, 5, 4, 2223, 5244, 16, 480, 66, 3785, 33, 4, 130, 12, 16, 38, 619, 5, 25, 124, 51, 36, 135, 48, 25, 1415, 33, 6, 22, 12, 215, 28, 77, 52, 5, 14, 407, 16, 82, 2, 8, 4, 107, 117, 5952, 15, 256, 4, 2, 7, 3766, 5, 723, 36, 71, 43, 530, 476, 26, 400, 317, 46, 7, 4, 2, 1029, 13, 104, 88, 4, 381, 15, 297, 98, 32, 2071, 56, 26, 141, 6, 194, 7486, 18, 4, 226, 22, 21, 134, 476, 26, 480, 5, 144, 30, 5535, 18, 51, 36, 28, 224, 92, 25, 104, 4, 226, 65, 16, 38, 1334, 88, 12, 16, 283, 5, 16, 4472, 113, 103, 32, 15, 16, 5345, 19, 178, 32]\n"
          ],
          "name": "stdout"
        }
      ]
    },
    {
      "cell_type": "code",
      "metadata": {
        "id": "HTalxfTv64Cy",
        "colab_type": "code",
        "colab": {
          "base_uri": "https://localhost:8080/",
          "height": 35
        },
        "outputId": "e423c78c-8c3e-4e34-8f63-7366fcaf8da3"
      },
      "source": [
        "len(train_data[0]), len(train_data[1])  # 각 리뷰의 단어 수"
      ],
      "execution_count": 5,
      "outputs": [
        {
          "output_type": "execute_result",
          "data": {
            "text/plain": [
              "(218, 189)"
            ]
          },
          "metadata": {
            "tags": []
          },
          "execution_count": 5
        }
      ]
    },
    {
      "cell_type": "markdown",
      "metadata": {
        "id": "obRPCcYG68sR",
        "colab_type": "text"
      },
      "source": [
        "#정수를 단어로 변환하기\n",
        "정수와 문자열을 매핑한 딕셔너리 객체에 질의하는 헬퍼 함수를 만들자."
      ]
    },
    {
      "cell_type": "code",
      "metadata": {
        "id": "N_s-ESU77Jdp",
        "colab_type": "code",
        "colab": {
          "base_uri": "https://localhost:8080/",
          "height": 53
        },
        "outputId": "68aec99a-db72-4ee7-b337-2fede3cf1ee0"
      },
      "source": [
        "# 정수, 단어 매핑한 딕셔너리\n",
        "word_index = imdb.get_word_index()\n",
        "\n",
        "# 첫 몇 개 인덱스는 사전에 정의 되어 있다.\n",
        "word_index = {k:(v+3) for k,v in word_index.items()}\n",
        "word_index[\"<PAD>\"] = 0\n",
        "word_index[\"<START>\"] = 1\n",
        "word_index[\"<UNK>\"] = 2\n",
        "word_index[\"<UNUSED>\"] = 3\n",
        "\n",
        "reverse_word_index = dict([(value, key) for (key,value) in word_index.items()])\n",
        "\n",
        "def decode_review(text):\n",
        "    return ' '.join([reverse_word_index.get(i, '?') for i in text])"
      ],
      "execution_count": 6,
      "outputs": [
        {
          "output_type": "stream",
          "text": [
            "Downloading data from https://storage.googleapis.com/tensorflow/tf-keras-datasets/imdb_word_index.json\n",
            "1646592/1641221 [==============================] - 0s 0us/step\n"
          ],
          "name": "stdout"
        }
      ]
    },
    {
      "cell_type": "markdown",
      "metadata": {
        "id": "XCL96f067qto",
        "colab_type": "text"
      },
      "source": [
        "reverse_word_index는 key, value를 value, key형태로 딕셔너리를 새로 만들어주는 것이다.\n",
        "\n",
        "그래야 쉽게 정수를 단어로 변환할 수 있기 때문이다."
      ]
    },
    {
      "cell_type": "code",
      "metadata": {
        "id": "qde8lP9o8Eke",
        "colab_type": "code",
        "colab": {
          "base_uri": "https://localhost:8080/",
          "height": 55
        },
        "outputId": "6d86103f-d063-4be1-ff9a-4d665bf25086"
      },
      "source": [
        "decode_review(train_data[0])"
      ],
      "execution_count": 7,
      "outputs": [
        {
          "output_type": "execute_result",
          "data": {
            "text/plain": [
              "\"<START> this film was just brilliant casting location scenery story direction everyone's really suited the part they played and you could just imagine being there robert <UNK> is an amazing actor and now the same being director <UNK> father came from the same scottish island as myself so i loved the fact there was a real connection with this film the witty remarks throughout the film were great it was just brilliant so much that i bought the film as soon as it was released for <UNK> and would recommend it to everyone to watch and the fly fishing was amazing really cried at the end it was so sad and you know what they say if you cry at a film it must have been good and this definitely was also <UNK> to the two little boy's that played the <UNK> of norman and paul they were just brilliant children are often left out of the <UNK> list i think because the stars that play them all grown up are such a big profile for the whole film but these children are amazing and should be praised for what they have done don't you think the whole story was so lovely because it was true and was someone's life after all that was shared with us all\""
            ]
          },
          "metadata": {
            "tags": []
          },
          "execution_count": 7
        }
      ]
    },
    {
      "cell_type": "markdown",
      "metadata": {
        "id": "cZJTixtw8ISF",
        "colab_type": "text"
      },
      "source": [
        "#데이터 준비\n",
        "신경망에 input data로 사용할 때 텐서 형태로 변환되어야 한다.\n",
        "\n",
        "변환하는 방법은 다음과 같다.\n",
        "- one-hot encoding : 정수 배열을 0과 1로 이루어진 벡터로 변환한다. 이 방법은 메모리가 많이 필요하다.\n",
        "\n",
        "- 정수 배열 길이가 모두 같게 padding을 추가한다."
      ]
    },
    {
      "cell_type": "code",
      "metadata": {
        "id": "V7phhDER8sL6",
        "colab_type": "code",
        "colab": {}
      },
      "source": [
        "#keras에 pad_sequences함수를 사용해서 배열 길이를 맞춰 텐서로 만들 수 있다.\n",
        "\n",
        "train_data = keras.preprocessing.sequence.pad_sequences(train_data,\n",
        "                                                        value=word_index[\"<PAD>\"],\n",
        "                                                        padding='post',\n",
        "                                                        maxlen=256)\n",
        "test_data = keras.preprocessing.sequence.pad_sequences(test_data,\n",
        "                                                       value=word_index[\"<PAD>\"],\n",
        "                                                       padding='post',\n",
        "                                                       maxlen=256)"
      ],
      "execution_count": 0,
      "outputs": []
    },
    {
      "cell_type": "code",
      "metadata": {
        "id": "8hkD_wdb9JFu",
        "colab_type": "code",
        "colab": {
          "base_uri": "https://localhost:8080/",
          "height": 35
        },
        "outputId": "f31b35fc-a179-42ea-d8b7-12f64e652155"
      },
      "source": [
        "#샘플 길이 확인\n",
        "len(train_data[0]), len(test_data[0])"
      ],
      "execution_count": 9,
      "outputs": [
        {
          "output_type": "execute_result",
          "data": {
            "text/plain": [
              "(256, 256)"
            ]
          },
          "metadata": {
            "tags": []
          },
          "execution_count": 9
        }
      ]
    },
    {
      "cell_type": "code",
      "metadata": {
        "id": "-dLxqOyx9Npv",
        "colab_type": "code",
        "colab": {
          "base_uri": "https://localhost:8080/",
          "height": 359
        },
        "outputId": "2bd62c23-cc3e-4c87-99ab-577cf3f58af7"
      },
      "source": [
        "#패딩된 데이터 확인\n",
        "print(train_data[0])"
      ],
      "execution_count": 10,
      "outputs": [
        {
          "output_type": "stream",
          "text": [
            "[   1   14   22   16   43  530  973 1622 1385   65  458 4468   66 3941\n",
            "    4  173   36  256    5   25  100   43  838  112   50  670    2    9\n",
            "   35  480  284    5  150    4  172  112  167    2  336  385   39    4\n",
            "  172 4536 1111   17  546   38   13  447    4  192   50   16    6  147\n",
            " 2025   19   14   22    4 1920 4613  469    4   22   71   87   12   16\n",
            "   43  530   38   76   15   13 1247    4   22   17  515   17   12   16\n",
            "  626   18    2    5   62  386   12    8  316    8  106    5    4 2223\n",
            " 5244   16  480   66 3785   33    4  130   12   16   38  619    5   25\n",
            "  124   51   36  135   48   25 1415   33    6   22   12  215   28   77\n",
            "   52    5   14  407   16   82    2    8    4  107  117 5952   15  256\n",
            "    4    2    7 3766    5  723   36   71   43  530  476   26  400  317\n",
            "   46    7    4    2 1029   13  104   88    4  381   15  297   98   32\n",
            " 2071   56   26  141    6  194 7486   18    4  226   22   21  134  476\n",
            "   26  480    5  144   30 5535   18   51   36   28  224   92   25  104\n",
            "    4  226   65   16   38 1334   88   12   16  283    5   16 4472  113\n",
            "  103   32   15   16 5345   19  178   32    0    0    0    0    0    0\n",
            "    0    0    0    0    0    0    0    0    0    0    0    0    0    0\n",
            "    0    0    0    0    0    0    0    0    0    0    0    0    0    0\n",
            "    0    0    0    0]\n"
          ],
          "name": "stdout"
        }
      ]
    },
    {
      "cell_type": "markdown",
      "metadata": {
        "id": "4BbIlA3v9Rte",
        "colab_type": "text"
      },
      "source": [
        "#모델 구성\n",
        "Embedding layer : 정수로 인코딩된 단어를 입력 받고 각 단어 인덱스에 해당하는 임베딩 벡터를 찾는다. 이 벡터는 모델이 훈련되면서 학습된다. 측 최종 차원이 (batch, sequence, embedding)이 된다.\n",
        "\n",
        "GlobalAveragePooling1D : sequence 차원에 대해 평균을 계산하여 각 샘플에 대해 고정된 길이의 출력 벡터를 반환한다. ** 길이가 다른 입력을 다루는 가장 간단한 방법 **\n",
        "\n",
        "Dense : fully connected layer로 처음에는 16개 마지막에는 1개의 유닛을 갖는다. 마지막 레이어에는 `sigmoid`를 사용해서 0과 1 사이의 실수를 출력한다. 이 출력값은 확률 or 신뢰도를 나타낸다."
      ]
    },
    {
      "cell_type": "code",
      "metadata": {
        "id": "8ef2mFrH9Z6A",
        "colab_type": "code",
        "colab": {
          "base_uri": "https://localhost:8080/",
          "height": 305
        },
        "outputId": "6a94fbe1-19df-42e4-ff70-8db7a6088412"
      },
      "source": [
        "vocab_size = 10000 #만 개의 단어\n",
        "\n",
        "model = keras.Sequential([\n",
        "                          keras.layers.Embedding(vocab_size, 16, input_shape=(None, )),\n",
        "                          keras.layers.GlobalAveragePooling1D(),\n",
        "                          keras.layers.Dense(16, activation='relu'),\n",
        "                          keras.layers.Dense(1, activation='sigmoid')\n",
        "])\n",
        "\n",
        "model.summary()"
      ],
      "execution_count": 14,
      "outputs": [
        {
          "output_type": "stream",
          "text": [
            "Model: \"sequential\"\n",
            "_________________________________________________________________\n",
            "Layer (type)                 Output Shape              Param #   \n",
            "=================================================================\n",
            "embedding_2 (Embedding)      (None, None, 16)          160000    \n",
            "_________________________________________________________________\n",
            "global_average_pooling1d_2 ( (None, 16)                0         \n",
            "_________________________________________________________________\n",
            "dense (Dense)                (None, 16)                272       \n",
            "_________________________________________________________________\n",
            "dense_1 (Dense)              (None, 1)                 17        \n",
            "=================================================================\n",
            "Total params: 160,289\n",
            "Trainable params: 160,289\n",
            "Non-trainable params: 0\n",
            "_________________________________________________________________\n"
          ],
          "name": "stdout"
        }
      ]
    },
    {
      "cell_type": "markdown",
      "metadata": {
        "id": "h-P68FJR931u",
        "colab_type": "text"
      },
      "source": [
        "#모델 컴파일"
      ]
    },
    {
      "cell_type": "code",
      "metadata": {
        "id": "4nJ29uV8_HAc",
        "colab_type": "code",
        "colab": {}
      },
      "source": [
        "model.compile(optimizer='adam',\n",
        "              loss='binary_crossentropy',\n",
        "              metrics=['accuracy'])"
      ],
      "execution_count": 0,
      "outputs": []
    },
    {
      "cell_type": "markdown",
      "metadata": {
        "id": "t6rmlg6t_NiW",
        "colab_type": "text"
      },
      "source": [
        "#validation set 만들기"
      ]
    },
    {
      "cell_type": "code",
      "metadata": {
        "id": "0V4jf0e1_Qqz",
        "colab_type": "code",
        "colab": {}
      },
      "source": [
        "x_val = train_data[:10000]\n",
        "partial_x_train = train_data[10000:]\n",
        "\n",
        "y_val = train_labels[:10000]\n",
        "partial_y_train = train_labels[10000:]"
      ],
      "execution_count": 0,
      "outputs": []
    },
    {
      "cell_type": "markdown",
      "metadata": {
        "id": "K33vujk0_gax",
        "colab_type": "text"
      },
      "source": [
        "#모델 훈련"
      ]
    },
    {
      "cell_type": "code",
      "metadata": {
        "id": "ijPWKjE-_k2V",
        "colab_type": "code",
        "colab": {
          "base_uri": "https://localhost:8080/",
          "height": 1000
        },
        "outputId": "844882ad-3955-4f65-e086-ca8bb2b011de"
      },
      "source": [
        "history = model.fit(partial_x_train,\n",
        "                    partial_y_train,\n",
        "                    512,\n",
        "                    40,\n",
        "                    1,\n",
        "                    validation_data=(x_val, y_val))"
      ],
      "execution_count": 17,
      "outputs": [
        {
          "output_type": "stream",
          "text": [
            "Train on 15000 samples, validate on 10000 samples\n",
            "Epoch 1/40\n",
            "15000/15000 [==============================] - 1s 90us/sample - loss: 0.6922 - accuracy: 0.5163 - val_loss: 0.6907 - val_accuracy: 0.6245\n",
            "Epoch 2/40\n",
            "15000/15000 [==============================] - 1s 43us/sample - loss: 0.6875 - accuracy: 0.6915 - val_loss: 0.6840 - val_accuracy: 0.7196\n",
            "Epoch 3/40\n",
            "15000/15000 [==============================] - 1s 40us/sample - loss: 0.6768 - accuracy: 0.7393 - val_loss: 0.6703 - val_accuracy: 0.7475\n",
            "Epoch 4/40\n",
            "15000/15000 [==============================] - 1s 39us/sample - loss: 0.6577 - accuracy: 0.7535 - val_loss: 0.6492 - val_accuracy: 0.7513\n",
            "Epoch 5/40\n",
            "15000/15000 [==============================] - 1s 38us/sample - loss: 0.6291 - accuracy: 0.7882 - val_loss: 0.6179 - val_accuracy: 0.7829\n",
            "Epoch 6/40\n",
            "15000/15000 [==============================] - 1s 38us/sample - loss: 0.5920 - accuracy: 0.8034 - val_loss: 0.5815 - val_accuracy: 0.7978\n",
            "Epoch 7/40\n",
            "15000/15000 [==============================] - 1s 37us/sample - loss: 0.5487 - accuracy: 0.8235 - val_loss: 0.5403 - val_accuracy: 0.8138\n",
            "Epoch 8/40\n",
            "15000/15000 [==============================] - 1s 38us/sample - loss: 0.5035 - accuracy: 0.8393 - val_loss: 0.5003 - val_accuracy: 0.8285\n",
            "Epoch 9/40\n",
            "15000/15000 [==============================] - 1s 38us/sample - loss: 0.4602 - accuracy: 0.8559 - val_loss: 0.4626 - val_accuracy: 0.8369\n",
            "Epoch 10/40\n",
            "15000/15000 [==============================] - 1s 39us/sample - loss: 0.4209 - accuracy: 0.8660 - val_loss: 0.4303 - val_accuracy: 0.8477\n",
            "Epoch 11/40\n",
            "15000/15000 [==============================] - 1s 40us/sample - loss: 0.3866 - accuracy: 0.8779 - val_loss: 0.4037 - val_accuracy: 0.8539\n",
            "Epoch 12/40\n",
            "15000/15000 [==============================] - 1s 39us/sample - loss: 0.3576 - accuracy: 0.8819 - val_loss: 0.3818 - val_accuracy: 0.8589\n",
            "Epoch 13/40\n",
            "15000/15000 [==============================] - 1s 40us/sample - loss: 0.3332 - accuracy: 0.8889 - val_loss: 0.3636 - val_accuracy: 0.8641\n",
            "Epoch 14/40\n",
            "15000/15000 [==============================] - 1s 40us/sample - loss: 0.3119 - accuracy: 0.8948 - val_loss: 0.3490 - val_accuracy: 0.8679\n",
            "Epoch 15/40\n",
            "15000/15000 [==============================] - 1s 39us/sample - loss: 0.2933 - accuracy: 0.9009 - val_loss: 0.3380 - val_accuracy: 0.8708\n",
            "Epoch 16/40\n",
            "15000/15000 [==============================] - 1s 42us/sample - loss: 0.2776 - accuracy: 0.9045 - val_loss: 0.3272 - val_accuracy: 0.8743\n",
            "Epoch 17/40\n",
            "15000/15000 [==============================] - 1s 38us/sample - loss: 0.2630 - accuracy: 0.9104 - val_loss: 0.3191 - val_accuracy: 0.8761\n",
            "Epoch 18/40\n",
            "15000/15000 [==============================] - 1s 38us/sample - loss: 0.2506 - accuracy: 0.9139 - val_loss: 0.3125 - val_accuracy: 0.8771\n",
            "Epoch 19/40\n",
            "15000/15000 [==============================] - 1s 39us/sample - loss: 0.2385 - accuracy: 0.9185 - val_loss: 0.3062 - val_accuracy: 0.8798\n",
            "Epoch 20/40\n",
            "15000/15000 [==============================] - 1s 40us/sample - loss: 0.2279 - accuracy: 0.9212 - val_loss: 0.3015 - val_accuracy: 0.8800\n",
            "Epoch 21/40\n",
            "15000/15000 [==============================] - 1s 40us/sample - loss: 0.2179 - accuracy: 0.9250 - val_loss: 0.2985 - val_accuracy: 0.8807\n",
            "Epoch 22/40\n",
            "15000/15000 [==============================] - 1s 39us/sample - loss: 0.2091 - accuracy: 0.9272 - val_loss: 0.2943 - val_accuracy: 0.8820\n",
            "Epoch 23/40\n",
            "15000/15000 [==============================] - 1s 39us/sample - loss: 0.1998 - accuracy: 0.9322 - val_loss: 0.2913 - val_accuracy: 0.8833\n",
            "Epoch 24/40\n",
            "15000/15000 [==============================] - 1s 39us/sample - loss: 0.1919 - accuracy: 0.9354 - val_loss: 0.2892 - val_accuracy: 0.8837\n",
            "Epoch 25/40\n",
            "15000/15000 [==============================] - 1s 40us/sample - loss: 0.1841 - accuracy: 0.9395 - val_loss: 0.2874 - val_accuracy: 0.8845\n",
            "Epoch 26/40\n",
            "15000/15000 [==============================] - 1s 41us/sample - loss: 0.1769 - accuracy: 0.9427 - val_loss: 0.2863 - val_accuracy: 0.8843\n",
            "Epoch 27/40\n",
            "15000/15000 [==============================] - 1s 40us/sample - loss: 0.1707 - accuracy: 0.9450 - val_loss: 0.2856 - val_accuracy: 0.8841\n",
            "Epoch 28/40\n",
            "15000/15000 [==============================] - 1s 41us/sample - loss: 0.1635 - accuracy: 0.9481 - val_loss: 0.2854 - val_accuracy: 0.8852\n",
            "Epoch 29/40\n",
            "15000/15000 [==============================] - 1s 40us/sample - loss: 0.1577 - accuracy: 0.9510 - val_loss: 0.2852 - val_accuracy: 0.8854\n",
            "Epoch 30/40\n",
            "15000/15000 [==============================] - 1s 39us/sample - loss: 0.1525 - accuracy: 0.9533 - val_loss: 0.2892 - val_accuracy: 0.8814\n",
            "Epoch 31/40\n",
            "15000/15000 [==============================] - 1s 38us/sample - loss: 0.1463 - accuracy: 0.9565 - val_loss: 0.2858 - val_accuracy: 0.8846\n",
            "Epoch 32/40\n",
            "15000/15000 [==============================] - 1s 39us/sample - loss: 0.1410 - accuracy: 0.9572 - val_loss: 0.2865 - val_accuracy: 0.8860\n",
            "Epoch 33/40\n",
            "15000/15000 [==============================] - 1s 39us/sample - loss: 0.1360 - accuracy: 0.9592 - val_loss: 0.2875 - val_accuracy: 0.8850\n",
            "Epoch 34/40\n",
            "15000/15000 [==============================] - 1s 41us/sample - loss: 0.1311 - accuracy: 0.9618 - val_loss: 0.2892 - val_accuracy: 0.8848\n",
            "Epoch 35/40\n",
            "15000/15000 [==============================] - 1s 40us/sample - loss: 0.1263 - accuracy: 0.9633 - val_loss: 0.2901 - val_accuracy: 0.8851\n",
            "Epoch 36/40\n",
            "15000/15000 [==============================] - 1s 41us/sample - loss: 0.1222 - accuracy: 0.9651 - val_loss: 0.2917 - val_accuracy: 0.8852\n",
            "Epoch 37/40\n",
            "15000/15000 [==============================] - 1s 41us/sample - loss: 0.1178 - accuracy: 0.9672 - val_loss: 0.2937 - val_accuracy: 0.8843\n",
            "Epoch 38/40\n",
            "15000/15000 [==============================] - 1s 39us/sample - loss: 0.1138 - accuracy: 0.9683 - val_loss: 0.2960 - val_accuracy: 0.8858\n",
            "Epoch 39/40\n",
            "15000/15000 [==============================] - 1s 38us/sample - loss: 0.1099 - accuracy: 0.9697 - val_loss: 0.2977 - val_accuracy: 0.8847\n",
            "Epoch 40/40\n",
            "15000/15000 [==============================] - 1s 39us/sample - loss: 0.1069 - accuracy: 0.9705 - val_loss: 0.3011 - val_accuracy: 0.8833\n"
          ],
          "name": "stdout"
        }
      ]
    },
    {
      "cell_type": "markdown",
      "metadata": {
        "id": "e9Bg-w0u_wZB",
        "colab_type": "text"
      },
      "source": [
        "#모델 평가"
      ]
    },
    {
      "cell_type": "code",
      "metadata": {
        "id": "7ZCE6tY0_1Bn",
        "colab_type": "code",
        "colab": {
          "base_uri": "https://localhost:8080/",
          "height": 53
        },
        "outputId": "d1680809-2bec-4669-a3a0-779b41589dda"
      },
      "source": [
        "results = model.evaluate(test_data, test_labels, verbose=2)\n",
        "print(results)"
      ],
      "execution_count": 18,
      "outputs": [
        {
          "output_type": "stream",
          "text": [
            "25000/1 - 1s - loss: 0.3170 - accuracy: 0.8725\n",
            "[0.32197448091983794, 0.87248]\n"
          ],
          "name": "stdout"
        }
      ]
    },
    {
      "cell_type": "markdown",
      "metadata": {
        "id": "9HDjoyqO_6n5",
        "colab_type": "text"
      },
      "source": [
        "87%의 정확도를 얻었다."
      ]
    },
    {
      "cell_type": "markdown",
      "metadata": {
        "id": "fK4q9fnxAD8F",
        "colab_type": "text"
      },
      "source": [
        "#정확도와 손실 그래프 그리기"
      ]
    },
    {
      "cell_type": "code",
      "metadata": {
        "id": "Wzgfqvt0AGZU",
        "colab_type": "code",
        "colab": {
          "base_uri": "https://localhost:8080/",
          "height": 35
        },
        "outputId": "4262f0da-d9ef-41a3-e012-5c7bf489a788"
      },
      "source": [
        "history_dict = history.history\n",
        "history_dict.keys()"
      ],
      "execution_count": 19,
      "outputs": [
        {
          "output_type": "execute_result",
          "data": {
            "text/plain": [
              "dict_keys(['loss', 'accuracy', 'val_loss', 'val_accuracy'])"
            ]
          },
          "metadata": {
            "tags": []
          },
          "execution_count": 19
        }
      ]
    },
    {
      "cell_type": "code",
      "metadata": {
        "id": "D5wQ3SkjAL1g",
        "colab_type": "code",
        "colab": {
          "base_uri": "https://localhost:8080/",
          "height": 295
        },
        "outputId": "2b1de6c2-fc94-4814-d115-d6b821efb8b7"
      },
      "source": [
        "import matplotlib.pyplot as plt\n",
        "\n",
        "acc = history_dict['accuracy']\n",
        "val_acc = history_dict['val_accuracy']\n",
        "loss = history_dict['loss']\n",
        "val_loss = history_dict['val_loss']\n",
        "\n",
        "epochs = range(1, len(acc)+1)\n",
        "\n",
        "plt.plot(epochs, loss, 'bo', label='Training loss')\n",
        "\n",
        "plt.plot(epochs, val_loss, 'b', label='Validation loss')\n",
        "plt.title('Training and validation loss')\n",
        "plt.xlabel('Epochs')\n",
        "plt.ylabel('Loss')\n",
        "plt.legend()\n",
        "\n",
        "plt.show()"
      ],
      "execution_count": 20,
      "outputs": [
        {
          "output_type": "display_data",
          "data": {
            "image/png": "[encoded data removed]",
            "text/plain": [
              "<Figure size 432x288 with 1 Axes>"
            ]
          },
          "metadata": {
            "tags": []
          }
        }
      ]
    },
    {
      "cell_type": "code",
      "metadata": {
        "id": "G9g1VTZxAqhi",
        "colab_type": "code",
        "colab": {
          "base_uri": "https://localhost:8080/",
          "height": 295
        },
        "outputId": "a1fb717c-1a40-42dd-b678-9b21bae6062a"
      },
      "source": [
        "plt.plot(epochs, acc, 'bo', label='Training acc')\n",
        "plt.plot(epochs, val_acc, 'b', label='Validation acc')\n",
        "plt.title('Training and Validation accuracy')\n",
        "plt.xlabel('Epochs')\n",
        "plt.ylabel('Accuracy')\n",
        "plt.legend()\n",
        "\n",
        "plt.show()"
      ],
      "execution_count": 22,
      "outputs": [
        {
          "output_type": "display_data",
          "data": {
            "image/png": "[encoded data removed]",
            "text/plain": [
              "<Figure size 432x288 with 1 Axes>"
            ]
          },
          "metadata": {
            "tags": []
          }
        }
      ]
    },
    {
      "cell_type": "code",
      "metadata": {
        "id": "xq1k77FmAvoj",
        "colab_type": "code",
        "colab": {}
      },
      "source": [
        ""
      ],
      "execution_count": 0,
      "outputs": []
    }
  ]
}