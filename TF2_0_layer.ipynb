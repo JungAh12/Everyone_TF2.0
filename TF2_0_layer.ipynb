{
  "nbformat": 4,
  "nbformat_minor": 0,
  "metadata": {
    "colab": {
      "name": "TF2.0_layer.ipynb",
      "provenance": [],
      "include_colab_link": true
    },
    "kernelspec": {
      "name": "python3",
      "display_name": "Python 3"
    },
    "accelerator": "GPU"
  },
  "cells": [
    {
      "cell_type": "markdown",
      "metadata": {
        "id": "view-in-github",
        "colab_type": "text"
      },
      "source": [
        "<a href=\"https://colab.research.google.com/github/JungAh12/Everyone_TF2.0/blob/master/TF2_0_layer.ipynb\" target=\"_parent\"><img src=\"https://colab.research.google.com/assets/colab-badge.svg\" alt=\"Open In Colab\"/></a>"
      ]
    },
    {
      "cell_type": "code",
      "metadata": {
        "id": "24z8_nsao5XK",
        "colab_type": "code",
        "colab": {
          "base_uri": "https://localhost:8080/",
          "height": 68
        },
        "outputId": "e6b44c68-d7b6-4cec-af15-a792bf3f9567"
      },
      "source": [
        "!pip install -q tensorflow-gpu==2.0.0-rc1\n",
        "import tensorflow as tf"
      ],
      "execution_count": 1,
      "outputs": [
        {
          "output_type": "stream",
          "text": [
            "\u001b[K     |████████████████████████████████| 380.5MB 46kB/s \n",
            "\u001b[K     |████████████████████████████████| 4.3MB 45.0MB/s \n",
            "\u001b[K     |████████████████████████████████| 501kB 70.9MB/s \n",
            "\u001b[?25h"
          ],
          "name": "stdout"
        }
      ]
    },
    {
      "cell_type": "markdown",
      "metadata": {
        "id": "OoLt8raKpFOD",
        "colab_type": "text"
      },
      "source": [
        "#layer\n",
        "tensorflow는 keras의 모든 API를 tf.keras에 포함하고 있다."
      ]
    },
    {
      "cell_type": "code",
      "metadata": {
        "id": "b7YwR654p2zS",
        "colab_type": "code",
        "colab": {}
      },
      "source": [
        "#대부분의 레이어는 첫번째 인수가 output dim 또는 channel이다.\n",
        "layer = tf.keras.layers.Dense(100) #Dense==FullyConnected\n",
        "\n",
        "#input dim은 처음 실행 시 유추할 수 있어서 종종 불필요하다.\n",
        "#일부 모델에서는 수동으로 input dim 써주는게 유용할 수 있다.\n",
        "layer = tf.keras.layers.Dense(10, input_shape=(None, 5))"
      ],
      "execution_count": 0,
      "outputs": []
    },
    {
      "cell_type": "code",
      "metadata": {
        "id": "B14xUBxJqSZx",
        "colab_type": "code",
        "colab": {
          "base_uri": "https://localhost:8080/",
          "height": 204
        },
        "outputId": "c2bd4e1d-3295-4cd0-b140-3f4d442880a5"
      },
      "source": [
        "#층을 사용하는 것은 호출하면된다.\n",
        "layer(tf.zeros([10,5])) #10x5"
      ],
      "execution_count": 3,
      "outputs": [
        {
          "output_type": "execute_result",
          "data": {
            "text/plain": [
              "<tf.Tensor: id=29, shape=(10, 10), dtype=float32, numpy=\n",
              "array([[0., 0., 0., 0., 0., 0., 0., 0., 0., 0.],\n",
              "       [0., 0., 0., 0., 0., 0., 0., 0., 0., 0.],\n",
              "       [0., 0., 0., 0., 0., 0., 0., 0., 0., 0.],\n",
              "       [0., 0., 0., 0., 0., 0., 0., 0., 0., 0.],\n",
              "       [0., 0., 0., 0., 0., 0., 0., 0., 0., 0.],\n",
              "       [0., 0., 0., 0., 0., 0., 0., 0., 0., 0.],\n",
              "       [0., 0., 0., 0., 0., 0., 0., 0., 0., 0.],\n",
              "       [0., 0., 0., 0., 0., 0., 0., 0., 0., 0.],\n",
              "       [0., 0., 0., 0., 0., 0., 0., 0., 0., 0.],\n",
              "       [0., 0., 0., 0., 0., 0., 0., 0., 0., 0.]], dtype=float32)>"
            ]
          },
          "metadata": {
            "tags": []
          },
          "execution_count": 3
        }
      ]
    },
    {
      "cell_type": "code",
      "metadata": {
        "id": "2wvtjpwGqccU",
        "colab_type": "code",
        "colab": {
          "base_uri": "https://localhost:8080/",
          "height": 445
        },
        "outputId": "54c4309b-77d2-4b2f-87cd-a21bdf9234d9"
      },
      "source": [
        "#layer 안에 있는 변수확인하기\n",
        "print(layer.variables) # 층안에 있는 모든 변수 확인가능\n",
        "print(layer.trainable_variables) # 학습 가능한 변수 확인가능"
      ],
      "execution_count": 5,
      "outputs": [
        {
          "output_type": "stream",
          "text": [
            "[<tf.Variable 'dense_1/kernel:0' shape=(5, 10) dtype=float32, numpy=\n",
            "array([[ 0.22709674,  0.25902545, -0.5331796 , -0.37266076, -0.4702699 ,\n",
            "         0.37390703,  0.6028841 , -0.04740435, -0.5029723 ,  0.1985023 ],\n",
            "       [ 0.01715243,  0.07172394,  0.50818235,  0.01662874, -0.17842638,\n",
            "         0.40023583, -0.48210758, -0.40912744,  0.06295311,  0.22801131],\n",
            "       [-0.15682885,  0.11161578, -0.16400927,  0.20083141, -0.03044224,\n",
            "        -0.6296113 ,  0.58754295,  0.11028928,  0.48258895,  0.5174548 ],\n",
            "       [-0.23493868, -0.38838416,  0.09327531,  0.05146134, -0.4243813 ,\n",
            "        -0.19744873, -0.23812622, -0.2625494 , -0.46005678, -0.13139057],\n",
            "       [ 0.03414893, -0.37218758, -0.060664  , -0.3923784 ,  0.21773201,\n",
            "        -0.38512576,  0.13944906, -0.0731445 ,  0.46893448,  0.62344176]],\n",
            "      dtype=float32)>, <tf.Variable 'dense_1/bias:0' shape=(10,) dtype=float32, numpy=array([0., 0., 0., 0., 0., 0., 0., 0., 0., 0.], dtype=float32)>]\n",
            "[<tf.Variable 'dense_1/kernel:0' shape=(5, 10) dtype=float32, numpy=\n",
            "array([[ 0.22709674,  0.25902545, -0.5331796 , -0.37266076, -0.4702699 ,\n",
            "         0.37390703,  0.6028841 , -0.04740435, -0.5029723 ,  0.1985023 ],\n",
            "       [ 0.01715243,  0.07172394,  0.50818235,  0.01662874, -0.17842638,\n",
            "         0.40023583, -0.48210758, -0.40912744,  0.06295311,  0.22801131],\n",
            "       [-0.15682885,  0.11161578, -0.16400927,  0.20083141, -0.03044224,\n",
            "        -0.6296113 ,  0.58754295,  0.11028928,  0.48258895,  0.5174548 ],\n",
            "       [-0.23493868, -0.38838416,  0.09327531,  0.05146134, -0.4243813 ,\n",
            "        -0.19744873, -0.23812622, -0.2625494 , -0.46005678, -0.13139057],\n",
            "       [ 0.03414893, -0.37218758, -0.060664  , -0.3923784 ,  0.21773201,\n",
            "        -0.38512576,  0.13944906, -0.0731445 ,  0.46893448,  0.62344176]],\n",
            "      dtype=float32)>, <tf.Variable 'dense_1/bias:0' shape=(10,) dtype=float32, numpy=array([0., 0., 0., 0., 0., 0., 0., 0., 0., 0.], dtype=float32)>]\n"
          ],
          "name": "stdout"
        }
      ]
    },
    {
      "cell_type": "code",
      "metadata": {
        "id": "7kTgL-YKqnxO",
        "colab_type": "code",
        "colab": {
          "base_uri": "https://localhost:8080/",
          "height": 258
        },
        "outputId": "1b567058-6c87-425d-be97-feb1d0007b44"
      },
      "source": [
        "#kernel은 weight, bias는 bias이다.\n",
        "layer.kernel, layer.bias"
      ],
      "execution_count": 6,
      "outputs": [
        {
          "output_type": "execute_result",
          "data": {
            "text/plain": [
              "(<tf.Variable 'dense_1/kernel:0' shape=(5, 10) dtype=float32, numpy=\n",
              " array([[ 0.22709674,  0.25902545, -0.5331796 , -0.37266076, -0.4702699 ,\n",
              "          0.37390703,  0.6028841 , -0.04740435, -0.5029723 ,  0.1985023 ],\n",
              "        [ 0.01715243,  0.07172394,  0.50818235,  0.01662874, -0.17842638,\n",
              "          0.40023583, -0.48210758, -0.40912744,  0.06295311,  0.22801131],\n",
              "        [-0.15682885,  0.11161578, -0.16400927,  0.20083141, -0.03044224,\n",
              "         -0.6296113 ,  0.58754295,  0.11028928,  0.48258895,  0.5174548 ],\n",
              "        [-0.23493868, -0.38838416,  0.09327531,  0.05146134, -0.4243813 ,\n",
              "         -0.19744873, -0.23812622, -0.2625494 , -0.46005678, -0.13139057],\n",
              "        [ 0.03414893, -0.37218758, -0.060664  , -0.3923784 ,  0.21773201,\n",
              "         -0.38512576,  0.13944906, -0.0731445 ,  0.46893448,  0.62344176]],\n",
              "       dtype=float32)>,\n",
              " <tf.Variable 'dense_1/bias:0' shape=(10,) dtype=float32, numpy=array([0., 0., 0., 0., 0., 0., 0., 0., 0., 0.], dtype=float32)>)"
            ]
          },
          "metadata": {
            "tags": []
          },
          "execution_count": 6
        }
      ]
    },
    {
      "cell_type": "markdown",
      "metadata": {
        "id": "4-fNyw07q3sQ",
        "colab_type": "text"
      },
      "source": [
        "#사용자 정의 층 구현\n",
        "`tf.keras.Layer`클래스를 상속해서 구현한다.\n",
        "\n",
        "* `__init__`에서 층에 필요한 파라미터를 입력받는다.\n",
        "\n",
        "* `build`에서 입력 텐서의 크기를 얻고 초기화를 진행할 수 있다.\n",
        "\n",
        "* `call`에서 forward computation을 진행할 수 있다.\n",
        "\n",
        "꼭 `build`를 호출해서 변수를 생성하지 않아도 된다. `__init__`에서 생성할 수 있다.\n",
        "\n",
        "**하지만 `build`에서 변수를 생성하면 층이 작동할 입력 크기를 기준으로 나중에 변수를 만들 수 있다. 그러나 `__init__`에서 변수를 생성하면 변수 생성에 필요한 크기를 명시적으로 지정해줘야한다.**"
      ]
    },
    {
      "cell_type": "code",
      "metadata": {
        "id": "qKDsI_3Lrjv5",
        "colab_type": "code",
        "colab": {
          "base_uri": "https://localhost:8080/",
          "height": 479
        },
        "outputId": "a9052645-a92a-4ee1-e7b3-13de091f3d07"
      },
      "source": [
        "class MyDenseLayer(tf.keras.layers.Layer):\n",
        "    def __init__(self, num_outputs):\n",
        "        super(MyDenseLayer, self).__init__()\n",
        "        self.num_outputs = num_outputs  #num_outputs 변수 생성\n",
        "\n",
        "    def build(self, input_shape):\n",
        "        self.kernel = self.add_variable(\"kernel\",\n",
        "                                        shape=[int(input_shape[-1]),    #weight의 크기는 입력 데이터의 끝 shape x num_outpus이다.\n",
        "                                               self.num_outputs])\n",
        "        def call(self, input):\n",
        "            return tf.matmul(input, self.kernel)    #input과 weight 곱연산.\n",
        "\n",
        "layer = MyDenseLayer(10)    #num_outputs = 10\n",
        "print(layer(tf.zeros([10,5])))  #input data = 0으로 채워진 10x5 tensor\n",
        "print(layer.trainable_variables)    #학습 가능한 변수 출력"
      ],
      "execution_count": 7,
      "outputs": [
        {
          "output_type": "stream",
          "text": [
            "WARNING:tensorflow:From <ipython-input-7-50990e55b473>:9: Layer.add_variable (from tensorflow.python.keras.engine.base_layer) is deprecated and will be removed in a future version.\n",
            "Instructions for updating:\n",
            "Please use `layer.add_weight` method instead.\n",
            "tf.Tensor(\n",
            "[[0. 0. 0. 0. 0.]\n",
            " [0. 0. 0. 0. 0.]\n",
            " [0. 0. 0. 0. 0.]\n",
            " [0. 0. 0. 0. 0.]\n",
            " [0. 0. 0. 0. 0.]\n",
            " [0. 0. 0. 0. 0.]\n",
            " [0. 0. 0. 0. 0.]\n",
            " [0. 0. 0. 0. 0.]\n",
            " [0. 0. 0. 0. 0.]\n",
            " [0. 0. 0. 0. 0.]], shape=(10, 5), dtype=float32)\n",
            "[<tf.Variable 'my_dense_layer/kernel:0' shape=(5, 10) dtype=float32, numpy=\n",
            "array([[-0.299897  , -0.00206733, -0.19329375,  0.60096234,  0.01382393,\n",
            "        -0.2837903 , -0.4636522 ,  0.02921677,  0.37188286, -0.59630984],\n",
            "       [ 0.50419   , -0.38440707, -0.31616986, -0.54895496,  0.5190546 ,\n",
            "        -0.03576207, -0.41125026,  0.24548757,  0.22366327, -0.21665746],\n",
            "       [-0.3027421 , -0.4285788 ,  0.1073637 ,  0.05980027,  0.34783858,\n",
            "        -0.06087887, -0.62249744,  0.09057784, -0.09778166, -0.50190574],\n",
            "       [ 0.4341703 ,  0.5131001 , -0.26609898, -0.59436315,  0.4570374 ,\n",
            "        -0.5228158 ,  0.49676615, -0.38585663,  0.30197138, -0.5593768 ],\n",
            "       [-0.00742728,  0.11443192,  0.02182734,  0.24774504, -0.325653  ,\n",
            "        -0.09966874,  0.52706045, -0.2113708 , -0.528049  , -0.56331056]],\n",
            "      dtype=float32)>]\n"
          ],
          "name": "stdout"
        }
      ]
    },
    {
      "cell_type": "markdown",
      "metadata": {
        "id": "vqtwLU5Xswoz",
        "colab_type": "text"
      },
      "source": [
        "#Model : layer 구성하기\n",
        "모델은 기존 layer들을 조합해서 구현된다.\n",
        "\n",
        "다른 층을 포함한 모델을 만들기 위해서 사용하는 메인 클래스는 `tf.keras.Model`이다."
      ]
    },
    {
      "cell_type": "code",
      "metadata": {
        "id": "017ZBiEKtJM9",
        "colab_type": "code",
        "colab": {
          "base_uri": "https://localhost:8080/",
          "height": 190
        },
        "outputId": "72fb79a7-c842-426b-8aa6-059b508e5c50"
      },
      "source": [
        "class ResnetIdentityBlock(tf.keras.Model):\n",
        "    def __init__(self, kernel_size, filters):\n",
        "        super(ResnetIdentityBlock, self).__init__(name='')\n",
        "        filters1, filters2, filters3 = filters\n",
        "\n",
        "        self.conv2a = tf.keras.layers.Conv2D(filters1,(1,1))\n",
        "        self.bn2a = tf.keras.layers.BatchNormalization()\n",
        "\n",
        "        self.conv2b = tf.keras.layers.Conv2D(filters2, kernel_size, padding='same')\n",
        "        self.bn2b = tf.keras.layers.BatchNormalization()\n",
        "\n",
        "        self.conv2c = tf.keras.layers.Conv2D(filters3, (1,1))\n",
        "        self.bn2c = tf.keras.layers.BatchNormalization()\n",
        "\n",
        "    def call(self, input_tensor, training=False):\n",
        "        x = self.conv2a(input_tensor)\n",
        "        x = self.bn2a(x, training=training)\n",
        "        x = tf.nn.relu(x)\n",
        "\n",
        "        x = self.conv2b(x)\n",
        "        x = self.bn2b(x, training=training)\n",
        "        x = tf.nn.relu(x)\n",
        "\n",
        "        x = self.conv2c(x)\n",
        "        x = self.bn2c(x, training=training)\n",
        "\n",
        "        x += input_tensor\n",
        "        return tf.nn.relu(x)\n",
        "\n",
        "block = ResnetIdentityBlock(1, [1,2,3]) # kernel_size = 1, filters = [1,2,3]\n",
        "print(block(tf.zeros([1,2,3,3]))) # 0으로 채워진 1x2x3x3 tensor 입력\n",
        "print([x.name for x in block.trainable_variables])"
      ],
      "execution_count": 9,
      "outputs": [
        {
          "output_type": "stream",
          "text": [
            "tf.Tensor(\n",
            "[[[[0. 0. 0.]\n",
            "   [0. 0. 0.]\n",
            "   [0. 0. 0.]]\n",
            "\n",
            "  [[0. 0. 0.]\n",
            "   [0. 0. 0.]\n",
            "   [0. 0. 0.]]]], shape=(1, 2, 3, 3), dtype=float32)\n",
            "['resnet_identity_block_1/conv2d_3/kernel:0', 'resnet_identity_block_1/conv2d_3/bias:0', 'resnet_identity_block_1/batch_normalization_3/gamma:0', 'resnet_identity_block_1/batch_normalization_3/beta:0', 'resnet_identity_block_1/conv2d_4/kernel:0', 'resnet_identity_block_1/conv2d_4/bias:0', 'resnet_identity_block_1/batch_normalization_4/gamma:0', 'resnet_identity_block_1/batch_normalization_4/beta:0', 'resnet_identity_block_1/conv2d_5/kernel:0', 'resnet_identity_block_1/conv2d_5/bias:0', 'resnet_identity_block_1/batch_normalization_5/gamma:0', 'resnet_identity_block_1/batch_normalization_5/beta:0']\n"
          ],
          "name": "stdout"
        }
      ]
    },
    {
      "cell_type": "code",
      "metadata": {
        "id": "xc70f3GRudXd",
        "colab_type": "code",
        "colab": {
          "base_uri": "https://localhost:8080/",
          "height": 153
        },
        "outputId": "96b45857-0f11-451a-f7ea-1d183f4fd2d5"
      },
      "source": [
        "#대부분은 다음과 같이 구현해서 사용한다.\n",
        "model = tf.keras.Sequential([\n",
        "                             tf.keras.layers.Conv2D(1, (1,1), input_shape=(None, None, 3)),\n",
        "                             tf.keras.layers.BatchNormalization(),\n",
        "                             tf.keras.layers.Conv2D(2, 1, padding='same'),\n",
        "                             tf.keras.layers.BatchNormalization(),\n",
        "                             tf.keras.layers.Conv2D(3, (1,1)),\n",
        "                             tf.keras.layers.BatchNormalization()\n",
        "])\n",
        "\n",
        "model(tf.zeros([1,2,3,3]))"
      ],
      "execution_count": 10,
      "outputs": [
        {
          "output_type": "execute_result",
          "data": {
            "text/plain": [
              "<tf.Tensor: id=990, shape=(1, 2, 3, 3), dtype=float32, numpy=\n",
              "array([[[[0., 0., 0.],\n",
              "         [0., 0., 0.],\n",
              "         [0., 0., 0.]],\n",
              "\n",
              "        [[0., 0., 0.],\n",
              "         [0., 0., 0.],\n",
              "         [0., 0., 0.]]]], dtype=float32)>"
            ]
          },
          "metadata": {
            "tags": []
          },
          "execution_count": 10
        }
      ]
    },
    {
      "cell_type": "code",
      "metadata": {
        "id": "jXB0NXypvATJ",
        "colab_type": "code",
        "colab": {}
      },
      "source": [
        ""
      ],
      "execution_count": 0,
      "outputs": []
    }
  ]
}