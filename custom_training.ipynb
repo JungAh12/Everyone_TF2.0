{
  "nbformat": 4,
  "nbformat_minor": 0,
  "metadata": {
    "colab": {
      "name": "custom_training.ipynb",
      "provenance": [],
      "include_colab_link": true
    },
    "kernelspec": {
      "name": "python3",
      "display_name": "Python 3"
    }
  },
  "cells": [
    {
      "cell_type": "markdown",
      "metadata": {
        "id": "view-in-github",
        "colab_type": "text"
      },
      "source": [
        "<a href=\"https://colab.research.google.com/github/JungAh12/Everyone_TF2.0/blob/master/custom_training.ipynb\" target=\"_parent\"><img src=\"https://colab.research.google.com/assets/colab-badge.svg\" alt=\"Open In Colab\"/></a>"
      ]
    },
    {
      "cell_type": "code",
      "metadata": {
        "id": "IbdM42NlYvWS",
        "colab_type": "code",
        "colab": {
          "base_uri": "https://localhost:8080/",
          "height": 68
        },
        "outputId": "f82cc14d-6433-4290-d293-11541512abad"
      },
      "source": [
        "!pip install -q tensorflow-gpu==2.0.0-rc1"
      ],
      "execution_count": 1,
      "outputs": [
        {
          "output_type": "stream",
          "text": [
            "\u001b[K     |████████████████████████████████| 380.5MB 39kB/s \n",
            "\u001b[K     |████████████████████████████████| 4.3MB 34.6MB/s \n",
            "\u001b[K     |████████████████████████████████| 501kB 61.0MB/s \n",
            "\u001b[?25h"
          ],
          "name": "stdout"
        }
      ]
    },
    {
      "cell_type": "code",
      "metadata": {
        "id": "kMpxfbCzZIl-",
        "colab_type": "code",
        "colab": {}
      },
      "source": [
        "import tensorflow as tf"
      ],
      "execution_count": 0,
      "outputs": []
    },
    {
      "cell_type": "markdown",
      "metadata": {
        "id": "CCMLc6zGZRuq",
        "colab_type": "text"
      },
      "source": [
        "#변수 Variable\n",
        "Tensor는 상태가 없고 변경이 불가능한 객체이다.\n",
        "\n",
        "그러나 머신러닝 모델은 가중치 값이 손실이 낮은 값으로 업데이트 되어야 한다."
      ]
    },
    {
      "cell_type": "code",
      "metadata": {
        "id": "FcPLvCqPZrF-",
        "colab_type": "code",
        "colab": {
          "base_uri": "https://localhost:8080/",
          "height": 204
        },
        "outputId": "1865a318-3bb7-423d-c13c-a6f2745d25cc"
      },
      "source": [
        "x = tf.zeros([10, 10])  #10x10 zero tensor 생성\n",
        "x += 2  #broadcast\n",
        "print(x)"
      ],
      "execution_count": 28,
      "outputs": [
        {
          "output_type": "stream",
          "text": [
            "tf.Tensor(\n",
            "[[2. 2. 2. 2. 2. 2. 2. 2. 2. 2.]\n",
            " [2. 2. 2. 2. 2. 2. 2. 2. 2. 2.]\n",
            " [2. 2. 2. 2. 2. 2. 2. 2. 2. 2.]\n",
            " [2. 2. 2. 2. 2. 2. 2. 2. 2. 2.]\n",
            " [2. 2. 2. 2. 2. 2. 2. 2. 2. 2.]\n",
            " [2. 2. 2. 2. 2. 2. 2. 2. 2. 2.]\n",
            " [2. 2. 2. 2. 2. 2. 2. 2. 2. 2.]\n",
            " [2. 2. 2. 2. 2. 2. 2. 2. 2. 2.]\n",
            " [2. 2. 2. 2. 2. 2. 2. 2. 2. 2.]\n",
            " [2. 2. 2. 2. 2. 2. 2. 2. 2. 2.]], shape=(10, 10), dtype=float32)\n"
          ],
          "name": "stdout"
        }
      ]
    },
    {
      "cell_type": "markdown",
      "metadata": {
        "id": "EZMDR-gDZxNH",
        "colab_type": "text"
      },
      "source": [
        "위는 파이썬을 통해서 값을 변경했다.\n",
        "\n",
        "텐서플로우 변수를 사용하는 것이 더 효율적이고 편하다."
      ]
    },
    {
      "cell_type": "code",
      "metadata": {
        "id": "mA-3RZfRbuOe",
        "colab_type": "code",
        "colab": {}
      },
      "source": [
        "v = tf.Variable(1.0)\n",
        "assert v.numpy() == 1.0\n",
        "\n",
        "# 값을 재배열한다.\n",
        "v.assign(3.0)\n",
        "assert v.numpy() == 3.0\n",
        "\n",
        "#tf.square()와 같은 텐서플로 연산에 'v'를 사용하고 재할당한다.\n",
        "v.assign(tf.square(v))\n",
        "assert v.numpy() == 9.0"
      ],
      "execution_count": 0,
      "outputs": []
    },
    {
      "cell_type": "markdown",
      "metadata": {
        "id": "oPtJS-mRcToZ",
        "colab_type": "text"
      },
      "source": [
        "variable을 사용한 연산은 gradient 계산에서 자동적으로 추가된다.\n",
        "embedding을 사용하는 경우 saprse tensor를 사용해서 업데이트된다.\n",
        "이는 연산과 메모리에 더욱 효율적이다.\n"
      ]
    },
    {
      "cell_type": "code",
      "metadata": {
        "id": "WQlJ8lu-c8QU",
        "colab_type": "code",
        "colab": {}
      },
      "source": [
        "#model 생성\n",
        "class Model(object):\n",
        "    def __init__(self):\n",
        "        self.W = tf.Variable(5.0)   #trainable variable\n",
        "        self.b = tf.Variable(0.0)   #trainable variable\n",
        "    def __call__(self, x):\n",
        "        return self.W*x+self.b      #fully connected\n",
        "    \n",
        "model = Model()\n",
        "assert model(3.0).numpy() == 15.0"
      ],
      "execution_count": 0,
      "outputs": []
    },
    {
      "cell_type": "markdown",
      "metadata": {
        "id": "-ReZHK4ndK3s",
        "colab_type": "text"
      },
      "source": [
        "loss 정의"
      ]
    },
    {
      "cell_type": "code",
      "metadata": {
        "id": "KozDMorKdapf",
        "colab_type": "code",
        "colab": {}
      },
      "source": [
        "#MSE : mean sqaure error\n",
        "def loss(predicted_y, desired_y) :\n",
        "    return tf.reduce_mean(tf.square(predicted_y - desired_y))"
      ],
      "execution_count": 0,
      "outputs": []
    },
    {
      "cell_type": "markdown",
      "metadata": {
        "id": "EFeV-3EYdhkp",
        "colab_type": "text"
      },
      "source": [
        "학습 데이터 가져오기"
      ]
    },
    {
      "cell_type": "code",
      "metadata": {
        "id": "teghsQvYdkgH",
        "colab_type": "code",
        "colab": {}
      },
      "source": [
        "TRUE_W = 3.0\n",
        "TRUE_b = 2.0\n",
        "NUM_EXAMPLES = 1000\n",
        "\n",
        "inputs = tf.random.normal(shape=[NUM_EXAMPLES])\n",
        "noise = tf.random.normal(shape=[NUM_EXAMPLES])\n",
        "outputs = inputs * TRUE_W + TRUE_b + noise  # 정답 값"
      ],
      "execution_count": 0,
      "outputs": []
    },
    {
      "cell_type": "code",
      "metadata": {
        "id": "-eIv3VMdd1Ty",
        "colab_type": "code",
        "colab": {
          "base_uri": "https://localhost:8080/",
          "height": 299
        },
        "outputId": "9af2e372-368b-4648-ff3c-fbf7ae4f4036"
      },
      "source": [
        "import matplotlib.pyplot as plt\n",
        "\n",
        "plt.scatter(inputs, outputs, c='b')\n",
        "plt.scatter(inputs, model(inputs), c='r')\n",
        "plt.show()\n",
        "\n",
        "print('cur loss : ')\n",
        "print(loss(model(inputs), outputs).numpy())"
      ],
      "execution_count": 47,
      "outputs": [
        {
          "output_type": "display_data",
          "data": {
            "image/png": "[encoded data removed]",
            "text/plain": [
              "<Figure size 432x288 with 1 Axes>"
            ]
          },
          "metadata": {
            "tags": []
          }
        },
        {
          "output_type": "stream",
          "text": [
            "cur loss : \n",
            "8.934707\n"
          ],
          "name": "stdout"
        }
      ]
    },
    {
      "cell_type": "markdown",
      "metadata": {
        "id": "6L9ezccZefVh",
        "colab_type": "text"
      },
      "source": [
        "#훈련 루프 정의"
      ]
    },
    {
      "cell_type": "code",
      "metadata": {
        "id": "rl4VOE0TekB6",
        "colab_type": "code",
        "colab": {}
      },
      "source": [
        "def train(model, inputs, outputs, learning_rate):\n",
        "    with tf.GradientTape() as t:\n",
        "        cur_loss = loss(model(inputs), outputs)\n",
        "    dW, db = t.gradient(cur_loss, [model.W, model.b])\n",
        "    model.W.assign_sub(learning_rate * dW)  #assign_sub : variable에 저장되어있는 값을 조작하는 연산자 sub은 뺄셈. W -= learning_rate*dW\n",
        "    model.b.assign_sub(learning_rate * db)"
      ],
      "execution_count": 0,
      "outputs": []
    },
    {
      "cell_type": "code",
      "metadata": {
        "id": "coBG3yG-e5cn",
        "colab_type": "code",
        "colab": {
          "base_uri": "https://localhost:8080/",
          "height": 435
        },
        "outputId": "7ec75fae-f6a7-4ab0-e0e8-43d01b63b064"
      },
      "source": [
        "model = Model() #model 생성\n",
        "\n",
        "Ws, bs = [], []\n",
        "epochs = range(10)\n",
        "for epoch in epochs:\n",
        "    Ws.append(model.W.numpy())\n",
        "    bs.append(model.b.numpy())\n",
        "    cur_loss = loss(model(inputs), outputs) #현재 loss\n",
        "\n",
        "    train(model, inputs, outputs, learning_rate=0.1)\n",
        "    print('epoch %2d: W=%1.2f b=%1.2f, loss=%2.5f'%(epoch, Ws[-1], bs[-1], cur_loss))\n",
        "\n",
        "plt.plot(epochs, Ws, 'r',\n",
        "         epochs, bs, 'b')\n",
        "plt.plot([TRUE_W]*len(epochs),'r--',\n",
        "         [TRUE_b]*len(epochs), 'b--')\n",
        "plt.legend(['W', 'b', 'true W', 'true_b'])\n",
        "plt.show()"
      ],
      "execution_count": 49,
      "outputs": [
        {
          "output_type": "stream",
          "text": [
            "epoch  0: W=5.00 b=0.00, loss=8.93471\n",
            "epoch  1: W=4.62 b=0.40, loss=6.17827\n",
            "epoch  2: W=4.31 b=0.72, loss=4.38440\n",
            "epoch  3: W=4.06 b=0.98, loss=3.21683\n",
            "epoch  4: W=3.86 b=1.19, loss=2.45681\n",
            "epoch  5: W=3.70 b=1.36, loss=1.96202\n",
            "epoch  6: W=3.56 b=1.49, loss=1.63986\n",
            "epoch  7: W=3.45 b=1.60, loss=1.43009\n",
            "epoch  8: W=3.37 b=1.68, loss=1.29347\n",
            "epoch  9: W=3.29 b=1.75, loss=1.20449\n"
          ],
          "name": "stdout"
        },
        {
          "output_type": "display_data",
          "data": {
            "image/png": "[encoded data removed]",
            "text/plain": [
              "<Figure size 432x288 with 1 Axes>"
            ]
          },
          "metadata": {
            "tags": []
          }
        }
      ]
    },
    {
      "cell_type": "code",
      "metadata": {
        "id": "Zgr53JMYf-iC",
        "colab_type": "code",
        "colab": {}
      },
      "source": [
        ""
      ],
      "execution_count": 0,
      "outputs": []
    }
  ]
}