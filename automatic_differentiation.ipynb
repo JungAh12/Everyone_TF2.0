{
  "nbformat": 4,
  "nbformat_minor": 0,
  "metadata": {
    "colab": {
      "name": "automatic_differentiation.ipynb",
      "provenance": [],
      "include_colab_link": true
    },
    "kernelspec": {
      "name": "python3",
      "display_name": "Python 3"
    }
  },
  "cells": [
    {
      "cell_type": "markdown",
      "metadata": {
        "id": "view-in-github",
        "colab_type": "text"
      },
      "source": [
        "<a href=\"https://colab.research.google.com/github/JungAh12/Everyone_TF2.0/blob/master/automatic_differentiation.ipynb\" target=\"_parent\"><img src=\"https://colab.research.google.com/assets/colab-badge.svg\" alt=\"Open In Colab\"/></a>"
      ]
    },
    {
      "cell_type": "code",
      "metadata": {
        "id": "-EIW6_3VSvD8",
        "colab_type": "code",
        "colab": {
          "base_uri": "https://localhost:8080/",
          "height": 68
        },
        "outputId": "0c017dc6-84b2-4324-d764-26a85d32dfbb"
      },
      "source": [
        "!pip install -q tensorflow-gpu==2.0.0-rc1"
      ],
      "execution_count": 1,
      "outputs": [
        {
          "output_type": "stream",
          "text": [
            "\u001b[K     |████████████████████████████████| 380.5MB 40kB/s \n",
            "\u001b[K     |████████████████████████████████| 501kB 50.3MB/s \n",
            "\u001b[K     |████████████████████████████████| 4.3MB 37.0MB/s \n",
            "\u001b[?25h"
          ],
          "name": "stdout"
        }
      ]
    },
    {
      "cell_type": "code",
      "metadata": {
        "id": "Lo7eSt6TTLMA",
        "colab_type": "code",
        "colab": {
          "base_uri": "https://localhost:8080/",
          "height": 34
        },
        "outputId": "088a8e38-9253-437d-d970-57bff8cec164"
      },
      "source": [
        "import tensorflow as tf\n",
        "tf.__version__"
      ],
      "execution_count": 2,
      "outputs": [
        {
          "output_type": "execute_result",
          "data": {
            "text/plain": [
              "'2.0.0-rc1'"
            ]
          },
          "metadata": {
            "tags": []
          },
          "execution_count": 2
        }
      ]
    },
    {
      "cell_type": "markdown",
      "metadata": {
        "id": "3bTHTgT0TYoK",
        "colab_type": "text"
      },
      "source": [
        "#Gradient tape\n",
        "TF에서 자동 미분을 계산하기 위해 `tf.GradientTape` API를 제공한다.\n",
        "컨텍스트 안에서 실행된 모든 연산을 테이프에 기록한다.\n",
        "그다음 reverse mode differentiation을 사용해서 테이프에 기록된 연산의 그래디언트 계산한다."
      ]
    },
    {
      "cell_type": "code",
      "metadata": {
        "id": "5tqPcLObTrFB",
        "colab_type": "code",
        "colab": {}
      },
      "source": [
        "x = tf.ones([2,2]) #1로 채워진 2x2 매트릭스\n",
        "with tf.GradientTape() as t:\n",
        "    t.watch(x)\n",
        "    y = tf.reduce_sum(x)\n",
        "    z = tf.multiply(y,y)\n",
        "\n",
        "#입력 텐서 x에 대한 z의 derivative\n",
        "dz_dx = t.gradient(z, x)\n",
        "for i in [0, 1]:\n",
        "    for j in [0, 1]:\n",
        "        assert dz_dx[i][j].numpy() == 8.0"
      ],
      "execution_count": 0,
      "outputs": []
    },
    {
      "cell_type": "code",
      "metadata": {
        "id": "nlKgWEmqUIzP",
        "colab_type": "code",
        "colab": {}
      },
      "source": [
        "x = tf.ones([2,2])\n",
        "\n",
        "with tf.GradientTape() as t:\n",
        "    t.watch(x)\n",
        "    y = tf.reduce_sum(x)\n",
        "    z = tf.multiply(y, y)\n",
        "\n",
        "dz_dy = t.gradient(z, y)\n",
        "assert dz_dy.numpy() == 8.0"
      ],
      "execution_count": 0,
      "outputs": []
    },
    {
      "cell_type": "markdown",
      "metadata": {
        "id": "E6WiwYZMUKX2",
        "colab_type": "text"
      },
      "source": [
        "기본적으로 `GradientTape.gradient()`가 호출되면 GradientTape에 포함된 리소스가 해제된다.\n",
        "동일한 연산에 대해 여러 gradient를 계산하려면 **지속성있는 gradientTape**를 사용하면된다.\n"
      ]
    },
    {
      "cell_type": "code",
      "metadata": {
        "id": "i3AgJ8ZIU3TJ",
        "colab_type": "code",
        "colab": {}
      },
      "source": [
        "x = tf.constant(3.0)    #상수 3.0\n",
        "\n",
        "with tf.GradientTape(persistent=True) as t:\n",
        "    t.watch(x)\n",
        "    y = x*x\n",
        "    z = y*y\n",
        "dz_dx = t.gradient(z, x)    # 108.0(4*x^3)\n",
        "dy_dx = t.gradient(y, x)    # 6.0\n",
        "del t"
      ],
      "execution_count": 0,
      "outputs": []
    },
    {
      "cell_type": "markdown",
      "metadata": {
        "id": "9ANr9ZnSVbaH",
        "colab_type": "text"
      },
      "source": [
        "#제어 흐름 기록"
      ]
    },
    {
      "cell_type": "code",
      "metadata": {
        "id": "Ev47-8PRWWKb",
        "colab_type": "code",
        "colab": {}
      },
      "source": [
        "def f(x, y):\n",
        "    output = 1.0\n",
        "    for i in range(y):\n",
        "        if i > 1 and i< 5:\n",
        "            output = tf.multiply(output, x)\n",
        "    return output\n",
        "\n",
        "def grad(x, y):\n",
        "    with tf.GradientTape() as t:\n",
        "        t.watch(x)\n",
        "        out = f(x, y)\n",
        "    return t.gradient(out, x)\n",
        "\n",
        "x = tf.convert_to_tensor(2.0)\n",
        "\n",
        "assert grad(x, 6).numpy() == 12.0\n",
        "assert grad(x, 5).numpy() == 12.0\n",
        "assert grad(x, 4).numpy() == 4.0"
      ],
      "execution_count": 0,
      "outputs": []
    },
    {
      "cell_type": "markdown",
      "metadata": {
        "id": "2yCDZBIsW7xS",
        "colab_type": "text"
      },
      "source": [
        "#Higher-order"
      ]
    },
    {
      "cell_type": "code",
      "metadata": {
        "id": "WGt6632TXCOr",
        "colab_type": "code",
        "colab": {}
      },
      "source": [
        "x = tf.Variable(1.0)    #1.0으로 초기화된 텐서플로 변수 생성\n",
        "\n",
        "with tf.GradientTape() as t:\n",
        "    with tf.GradientTape() as t2:\n",
        "        y = x*x*x\n",
        "    dy_dx = t2.gradient(y, x)   # x에 대해 y 미분\n",
        "d2y_dx2 = t.gradient(dy_dx, x)  # x에 대해 한 번 더 dy_dx 미분\n",
        "\n",
        "assert dy_dx.numpy() == 3.0\n",
        "assert d2y_dx2.numpy() == 6.0"
      ],
      "execution_count": 0,
      "outputs": []
    },
    {
      "cell_type": "code",
      "metadata": {
        "id": "bQwOEMBxXeiX",
        "colab_type": "code",
        "colab": {
          "base_uri": "https://localhost:8080/",
          "height": 34
        },
        "outputId": "650c7f7e-58fc-4fd9-959e-4056d54ca301"
      },
      "source": [
        "dy_dx"
      ],
      "execution_count": 14,
      "outputs": [
        {
          "output_type": "execute_result",
          "data": {
            "text/plain": [
              "<tf.Tensor: id=167, shape=(), dtype=float32, numpy=3.0>"
            ]
          },
          "metadata": {
            "tags": []
          },
          "execution_count": 14
        }
      ]
    },
    {
      "cell_type": "code",
      "metadata": {
        "id": "dpegoiSRXmZH",
        "colab_type": "code",
        "colab": {
          "base_uri": "https://localhost:8080/",
          "height": 34
        },
        "outputId": "473e6d24-ea26-47c8-a5f6-69132c43e42b"
      },
      "source": [
        "d2y_dx2"
      ],
      "execution_count": 15,
      "outputs": [
        {
          "output_type": "execute_result",
          "data": {
            "text/plain": [
              "<tf.Tensor: id=182, shape=(), dtype=float32, numpy=6.0>"
            ]
          },
          "metadata": {
            "tags": []
          },
          "execution_count": 15
        }
      ]
    }
  ]
}