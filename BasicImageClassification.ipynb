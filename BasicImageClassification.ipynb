{
  "nbformat": 4,
  "nbformat_minor": 0,
  "metadata": {
    "colab": {
      "name": "BasicImageClassification.ipynb",
      "provenance": [],
      "include_colab_link": true
    },
    "kernelspec": {
      "name": "python3",
      "display_name": "Python 3"
    }
  },
  "cells": [
    {
      "cell_type": "markdown",
      "metadata": {
        "id": "view-in-github",
        "colab_type": "text"
      },
      "source": [
        "<a href=\"https://colab.research.google.com/github/JungAh12/Everyone_TF2.0/blob/master/BasicImageClassification.ipynb\" target=\"_parent\"><img src=\"https://colab.research.google.com/assets/colab-badge.svg\" alt=\"Open In Colab\"/></a>"
      ]
    },
    {
      "cell_type": "markdown",
      "metadata": {
        "id": "ItEF63auYmxX",
        "colab_type": "text"
      },
      "source": [
        "#기초적인 이미지 분류 모델 학습\n",
        "이 튜토리얼은 옷 이미지를 분류하는 신경망 모델을 훈련한다."
      ]
    },
    {
      "cell_type": "code",
      "metadata": {
        "id": "-DlkV05_aHzq",
        "colab_type": "code",
        "colab": {}
      },
      "source": [
        "#2.0으로 설치해줘야함. 아니면 1.x버전 사용된다.\n",
        "!pip install -q tensorflow-gpu==2.0.0-rc1"
      ],
      "execution_count": 0,
      "outputs": []
    },
    {
      "cell_type": "code",
      "metadata": {
        "id": "BbS7tffuaWys",
        "colab_type": "code",
        "colab": {}
      },
      "source": [
        "import tensorflow as tf\n",
        "from tensorflow import keras\n",
        "\n",
        "import numpy as np\n",
        "import matplotlib.pyplot as plt"
      ],
      "execution_count": 0,
      "outputs": []
    },
    {
      "cell_type": "code",
      "metadata": {
        "id": "h8XWzDBfc8hh",
        "colab_type": "code",
        "colab": {
          "base_uri": "https://localhost:8080/",
          "height": 35
        },
        "outputId": "82c6cf9c-7c17-4dbf-f101-4778301fb184"
      },
      "source": [
        "tf.__version__"
      ],
      "execution_count": 4,
      "outputs": [
        {
          "output_type": "execute_result",
          "data": {
            "text/plain": [
              "'2.0.0-rc1'"
            ]
          },
          "metadata": {
            "tags": []
          },
          "execution_count": 4
        }
      ]
    },
    {
      "cell_type": "markdown",
      "metadata": {
        "id": "PVYTn7mBc9sW",
        "colab_type": "text"
      },
      "source": [
        "#사용하려는 Data\n",
        "10개의 category, 70000장의 28x28 픽셀의 grayscale image로 구성된 패션 MNIST 데이터셋을 사용한다.\n",
        "\n",
        "숫자 손글씨 데이터인 MNIST 데이터셋을 대신해서 자주 사용된다.\n",
        "\n",
        "training data로 60000장, test data로 10000장을 사용할 것이다."
      ]
    },
    {
      "cell_type": "code",
      "metadata": {
        "id": "6rt3GoNCdrD6",
        "colab_type": "code",
        "colab": {
          "base_uri": "https://localhost:8080/",
          "height": 161
        },
        "outputId": "c8298d02-dd97-473b-a3c9-5cf5e6c56500"
      },
      "source": [
        "fashion_mnist = keras.datasets.fashion_mnist\n",
        "(train_images, train_labels),(test_images, test_labels) = fashion_mnist.load_data()"
      ],
      "execution_count": 6,
      "outputs": [
        {
          "output_type": "stream",
          "text": [
            "Downloading data from https://storage.googleapis.com/tensorflow/tf-keras-datasets/train-labels-idx1-ubyte.gz\n",
            "32768/29515 [=================================] - 0s 0us/step\n",
            "Downloading data from https://storage.googleapis.com/tensorflow/tf-keras-datasets/train-images-idx3-ubyte.gz\n",
            "26427392/26421880 [==============================] - 0s 0us/step\n",
            "Downloading data from https://storage.googleapis.com/tensorflow/tf-keras-datasets/t10k-labels-idx1-ubyte.gz\n",
            "8192/5148 [===============================================] - 0s 0us/step\n",
            "Downloading data from https://storage.googleapis.com/tensorflow/tf-keras-datasets/t10k-images-idx3-ubyte.gz\n",
            "4423680/4422102 [==============================] - 0s 0us/step\n"
          ],
          "name": "stdout"
        }
      ]
    },
    {
      "cell_type": "markdown",
      "metadata": {
        "id": "a9dcoIVYd2c4",
        "colab_type": "text"
      },
      "source": [
        "load_data() : 4개의 Numpy array를 반환한다.\n",
        "\n",
        "image : 28x28 pixel(0~255)\n",
        "\n",
        "label : 0 to 9\n",
        "\n",
        "![image](https://user-images.githubusercontent.com/19795193/69650771-71f00580-10b2-11ea-891a-3142780670ef.png)\n",
        "\n",
        "레이블이 클래스 명이 아니라 숫자로 되어있기 때문에 따로 만들어줘야한다."
      ]
    },
    {
      "cell_type": "code",
      "metadata": {
        "id": "S6WisdRhfHAL",
        "colab_type": "code",
        "colab": {}
      },
      "source": [
        "class_name = ['T-shirt/top', 'Trouser', 'Pullover', 'Dress', 'Coat', 'Sandal', 'Shirt', 'Sneaker', 'Bag', 'Ankle boot']"
      ],
      "execution_count": 0,
      "outputs": []
    },
    {
      "cell_type": "markdown",
      "metadata": {
        "id": "COK4dHEZfTT_",
        "colab_type": "text"
      },
      "source": [
        "#Analysis Dataset structure"
      ]
    },
    {
      "cell_type": "code",
      "metadata": {
        "id": "waMD9zQTfht3",
        "colab_type": "code",
        "colab": {
          "base_uri": "https://localhost:8080/",
          "height": 35
        },
        "outputId": "bef243fe-5b12-459e-b1e0-2368a2c6cca6"
      },
      "source": [
        "train_images.shape"
      ],
      "execution_count": 8,
      "outputs": [
        {
          "output_type": "execute_result",
          "data": {
            "text/plain": [
              "(60000, 28, 28)"
            ]
          },
          "metadata": {
            "tags": []
          },
          "execution_count": 8
        }
      ]
    },
    {
      "cell_type": "code",
      "metadata": {
        "id": "RjnHEgUWfmxK",
        "colab_type": "code",
        "colab": {
          "base_uri": "https://localhost:8080/",
          "height": 35
        },
        "outputId": "b491fe4a-314d-4886-ed0e-95798559ec60"
      },
      "source": [
        "train_labels.shape"
      ],
      "execution_count": 9,
      "outputs": [
        {
          "output_type": "execute_result",
          "data": {
            "text/plain": [
              "(60000,)"
            ]
          },
          "metadata": {
            "tags": []
          },
          "execution_count": 9
        }
      ]
    },
    {
      "cell_type": "code",
      "metadata": {
        "id": "7_Y_erlNfqNL",
        "colab_type": "code",
        "colab": {
          "base_uri": "https://localhost:8080/",
          "height": 35
        },
        "outputId": "53e126b9-7974-4b39-b0b5-c19788355c63"
      },
      "source": [
        "train_labels"
      ],
      "execution_count": 10,
      "outputs": [
        {
          "output_type": "execute_result",
          "data": {
            "text/plain": [
              "array([9, 0, 0, ..., 3, 0, 5], dtype=uint8)"
            ]
          },
          "metadata": {
            "tags": []
          },
          "execution_count": 10
        }
      ]
    },
    {
      "cell_type": "code",
      "metadata": {
        "id": "ImrPg2Dbfsds",
        "colab_type": "code",
        "colab": {
          "base_uri": "https://localhost:8080/",
          "height": 35
        },
        "outputId": "7d12c672-7224-4afb-90b9-9fb18f6ab9fb"
      },
      "source": [
        "test_images.shape"
      ],
      "execution_count": 11,
      "outputs": [
        {
          "output_type": "execute_result",
          "data": {
            "text/plain": [
              "(10000, 28, 28)"
            ]
          },
          "metadata": {
            "tags": []
          },
          "execution_count": 11
        }
      ]
    },
    {
      "cell_type": "code",
      "metadata": {
        "id": "93qvnws6fui0",
        "colab_type": "code",
        "colab": {
          "base_uri": "https://localhost:8080/",
          "height": 35
        },
        "outputId": "3f5fc3ef-6948-4fc6-f913-44cfe7e8630d"
      },
      "source": [
        "test_labels.shape"
      ],
      "execution_count": 12,
      "outputs": [
        {
          "output_type": "execute_result",
          "data": {
            "text/plain": [
              "(10000,)"
            ]
          },
          "metadata": {
            "tags": []
          },
          "execution_count": 12
        }
      ]
    },
    {
      "cell_type": "code",
      "metadata": {
        "id": "KUoGWhWNfv-V",
        "colab_type": "code",
        "colab": {
          "base_uri": "https://localhost:8080/",
          "height": 35
        },
        "outputId": "15b10053-d1a8-4fa8-d04c-127e86ddefff"
      },
      "source": [
        "test_labels"
      ],
      "execution_count": 13,
      "outputs": [
        {
          "output_type": "execute_result",
          "data": {
            "text/plain": [
              "array([9, 2, 1, ..., 8, 1, 5], dtype=uint8)"
            ]
          },
          "metadata": {
            "tags": []
          },
          "execution_count": 13
        }
      ]
    },
    {
      "cell_type": "markdown",
      "metadata": {
        "id": "SVcaykF6fw3s",
        "colab_type": "text"
      },
      "source": [
        "#Data Preprocessing"
      ]
    },
    {
      "cell_type": "code",
      "metadata": {
        "id": "Wm2CxjB2f1Vd",
        "colab_type": "code",
        "colab": {
          "base_uri": "https://localhost:8080/",
          "height": 265
        },
        "outputId": "e3dc75cd-495d-4da1-e857-f72aa683051f"
      },
      "source": [
        "plt.figure()\n",
        "plt.imshow(train_images[0])\n",
        "plt.colorbar()  #옆에 범례 나타냄\n",
        "plt.grid(False) #True하면 이미지에 격자가 생긴다.\n",
        "plt.show()"
      ],
      "execution_count": 16,
      "outputs": [
        {
          "output_type": "display_data",
          "data": {
            "image/png": "[encoded data removed]",
            "text/plain": [
              "<Figure size 432x288 with 2 Axes>"
            ]
          },
          "metadata": {
            "tags": []
          }
        }
      ]
    },
    {
      "cell_type": "markdown",
      "metadata": {
        "id": "HIlqucwVf-Sr",
        "colab_type": "text"
      },
      "source": [
        "이미지를 보았을 때 0~ 255의 값임을 알 수 있다.\n",
        "\n",
        "이미지 데이터들을 정규화하여 0~1 사이로 조정하자.\n",
        "\n",
        "정규화를 해야 학습이 더 잘된다."
      ]
    },
    {
      "cell_type": "code",
      "metadata": {
        "id": "KJkjp_akgztd",
        "colab_type": "code",
        "colab": {}
      },
      "source": [
        "train_images = train_images/255.0   #Numpy array이기 때문에 broadcast가 가능하다.\n",
        "test_images = test_images/255.0"
      ],
      "execution_count": 0,
      "outputs": []
    },
    {
      "cell_type": "code",
      "metadata": {
        "id": "Z1j14RHuhCO4",
        "colab_type": "code",
        "colab": {
          "base_uri": "https://localhost:8080/",
          "height": 589
        },
        "outputId": "37ae32f6-352c-428b-e260-e82f40c32aba"
      },
      "source": [
        "plt.figure(figsize=(10,10))\n",
        "\n",
        "# 변형된 이미지 보기\n",
        "\n",
        "for i in range(25):\n",
        "    plt.subplot(5,5,i+1)\n",
        "    plt.xticks([])\n",
        "    plt.yticks([])\n",
        "    plt.grid(False)\n",
        "    plt.imshow(train_images[i], cmap=plt.cm.binary)\n",
        "    plt.xlabel(class_name[train_labels[i]])\n",
        "plt.show()"
      ],
      "execution_count": 20,
      "outputs": [
        {
          "output_type": "display_data",
          "data": {
            "image/png": "[encoded data removed]",
            "text/plain": [
              "<Figure size 720x720 with 25 Axes>"
            ]
          },
          "metadata": {
            "tags": []
          }
        }
      ]
    },
    {
      "cell_type": "markdown",
      "metadata": {
        "id": "ce_B6SN-hVLw",
        "colab_type": "text"
      },
      "source": [
        "#Model 구성"
      ]
    },
    {
      "cell_type": "code",
      "metadata": {
        "id": "PM3Dai1BhlCR",
        "colab_type": "code",
        "colab": {}
      },
      "source": [
        "model = keras.Sequential([\n",
        "                          keras.layers.Flatten(input_shape=(28,28)),\n",
        "                          keras.layers.Dense(128, activation='relu'),\n",
        "                          keras.layers.Dense(10, activation='softmax')\n",
        "])"
      ],
      "execution_count": 0,
      "outputs": []
    },
    {
      "cell_type": "markdown",
      "metadata": {
        "id": "UxHRsUnuh47K",
        "colab_type": "text"
      },
      "source": [
        "먼저 이미지는 2D array형태로 나타나기 때문에 이것을 1D로 바꿔주기 위해서 `keras.layers.Flatten()`레이어를 사용한다.\n",
        "Flatten layer는 학습되는 weight param없이 데이터 변환만 해준다.\n",
        "\n",
        "- 2D : 28 x 28\n",
        "- 1D : 28*28 x 1 = 784 x 1\n",
        "\n",
        "그 다음 Fully Connected layer인 `keras.layers.Dense()`레이어를 사용해서 첫번째 레이어에서는 128개의 뉴런을 가진 활성화함수 ReLu를 사용하는 Dense layer를 사용한다.\n",
        "\n",
        "마지막 Dense layer는 output을 class 개수인 10개로 출력해내기 위해 10개 뉴런을 가진 레이어를 사용한다.\n",
        "\n",
        "여기서 마지막 layer는 활성화함수로 **softmax**를 사용하는데, softmax를 사용하면 전체 원소의 합이 1인 확률값으로 반환하기 때문이다.\n",
        "\n",
        "결과적으로 output으로 각 class의 확률값이 들어있는 10x1 vector가 output으로 나오게 된다."
      ]
    },
    {
      "cell_type": "markdown",
      "metadata": {
        "id": "jTT3DpWEjcdc",
        "colab_type": "text"
      },
      "source": [
        "#모델 컴파일\n",
        "컴파일 단계에서는 다음 설정을 추가한다.\n",
        "- loss function : model의 오차를 측정한다. 이 loss를 최소화해야한다.\n",
        "- optimizer : data와 loss function을 바탕으로 model update 방법을 결정한다.(ex:RMSProp, Adam, etc.)\n",
        "- metrics : 측정지표"
      ]
    },
    {
      "cell_type": "code",
      "metadata": {
        "id": "kgcfPDnij0Ov",
        "colab_type": "code",
        "colab": {}
      },
      "source": [
        "model.compile(loss='sparse_categorical_crossentropy',\n",
        "              optimizer='adam',\n",
        "              metrics=['accuracy'])"
      ],
      "execution_count": 0,
      "outputs": []
    },
    {
      "cell_type": "markdown",
      "metadata": {
        "id": "482-2WO9j-03",
        "colab_type": "text"
      },
      "source": [
        "#모델 훈련하기"
      ]
    },
    {
      "cell_type": "code",
      "metadata": {
        "id": "6wi31AGLkBLk",
        "colab_type": "code",
        "colab": {
          "base_uri": "https://localhost:8080/",
          "height": 233
        },
        "outputId": "160fb98e-5ee6-4851-cde8-45b984683b1e"
      },
      "source": [
        "model.fit(train_images, train_labels, epochs=5)"
      ],
      "execution_count": 23,
      "outputs": [
        {
          "output_type": "stream",
          "text": [
            "Train on 60000 samples\n",
            "Epoch 1/5\n",
            "60000/60000 [==============================] - 9s 151us/sample - loss: 0.4946 - accuracy: 0.8266\n",
            "Epoch 2/5\n",
            "60000/60000 [==============================] - 7s 114us/sample - loss: 0.3709 - accuracy: 0.8659\n",
            "Epoch 3/5\n",
            "60000/60000 [==============================] - 7s 119us/sample - loss: 0.3349 - accuracy: 0.8774\n",
            "Epoch 4/5\n",
            "60000/60000 [==============================] - 7s 117us/sample - loss: 0.3115 - accuracy: 0.8855\n",
            "Epoch 5/5\n",
            "60000/60000 [==============================] - 7s 113us/sample - loss: 0.2919 - accuracy: 0.8924\n"
          ],
          "name": "stdout"
        },
        {
          "output_type": "execute_result",
          "data": {
            "text/plain": [
              "<tensorflow.python.keras.callbacks.History at 0x7f13b712dfd0>"
            ]
          },
          "metadata": {
            "tags": []
          },
          "execution_count": 23
        }
      ]
    },
    {
      "cell_type": "markdown",
      "metadata": {
        "id": "KfvVod2-kGXL",
        "colab_type": "text"
      },
      "source": [
        "훈련 과정에서 최종적으로 loss가 0.2919, accuracy가 0.89%를 달성한 것을 확인하였다.\n",
        "\n",
        "#정확도 평가"
      ]
    },
    {
      "cell_type": "code",
      "metadata": {
        "id": "JtDqAoq_kKER",
        "colab_type": "code",
        "colab": {
          "base_uri": "https://localhost:8080/",
          "height": 71
        },
        "outputId": "c4dbb17c-ed45-4a7d-9794-0a990c3c2845"
      },
      "source": [
        "test_loss, test_acc = model.evaluate(test_images, test_labels, verbose=2)\n",
        "print('\\n테스트 정확도 : ',test_acc)"
      ],
      "execution_count": 24,
      "outputs": [
        {
          "output_type": "stream",
          "text": [
            "10000/1 - 1s - loss: 0.2760 - accuracy: 0.8683\n",
            "\n",
            "테스트 정확도 :  0.8683\n"
          ],
          "name": "stdout"
        }
      ]
    },
    {
      "cell_type": "markdown",
      "metadata": {
        "id": "Mt6WClxekVBv",
        "colab_type": "text"
      },
      "source": [
        "### Test 단계가 Train 단계보다 정확도가 낮은 이유?\n",
        "**overfitting(과적합)** 때문이다.\n",
        "\n",
        "모델이 훈련했던 데이터에 fitting 하다보니 새로운 데이터에서는 성능이 낮아지는 것을 말한다.\n",
        "\n",
        "#Prediction 만들기"
      ]
    },
    {
      "cell_type": "code",
      "metadata": {
        "id": "2BwoEgPGk0jh",
        "colab_type": "code",
        "colab": {}
      },
      "source": [
        "predictions = model.predict(test_images)"
      ],
      "execution_count": 0,
      "outputs": []
    },
    {
      "cell_type": "code",
      "metadata": {
        "id": "mrH7p9uck9f-",
        "colab_type": "code",
        "colab": {
          "base_uri": "https://localhost:8080/",
          "height": 71
        },
        "outputId": "b4c1d7cf-427a-40b0-de6b-24bb75f9a3ef"
      },
      "source": [
        "predictions[0]"
      ],
      "execution_count": 26,
      "outputs": [
        {
          "output_type": "execute_result",
          "data": {
            "text/plain": [
              "array([4.6170214e-07, 3.0368568e-08, 4.3655188e-10, 1.3947196e-08,\n",
              "       2.0108113e-08, 3.2602230e-03, 4.6017149e-07, 2.4508415e-03,\n",
              "       6.8657619e-07, 9.9428731e-01], dtype=float32)"
            ]
          },
          "metadata": {
            "tags": []
          },
          "execution_count": 26
        }
      ]
    },
    {
      "cell_type": "markdown",
      "metadata": {
        "id": "gz7bl_Kvk_PK",
        "colab_type": "text"
      },
      "source": [
        "predictions에는 test dataset 내 이미지마다의 예측 output이 들어있다.\n",
        "\n",
        "즉 10개 클래스에 대한 확률값(10x1)이 저장된 벡터가 10000개(test images 개수)들어있는 것이다."
      ]
    },
    {
      "cell_type": "code",
      "metadata": {
        "id": "Ga8HAHvKlbFe",
        "colab_type": "code",
        "colab": {
          "base_uri": "https://localhost:8080/",
          "height": 35
        },
        "outputId": "2dcb55e2-1dbc-45b9-841d-832ea090c765"
      },
      "source": [
        "np.argmax(predictions[0])"
      ],
      "execution_count": 27,
      "outputs": [
        {
          "output_type": "execute_result",
          "data": {
            "text/plain": [
              "9"
            ]
          },
          "metadata": {
            "tags": []
          },
          "execution_count": 27
        }
      ]
    },
    {
      "cell_type": "markdown",
      "metadata": {
        "id": "r-ecONo7leNI",
        "colab_type": "text"
      },
      "source": [
        "`np.argmax()`를 사용해서 predictions[0]의 가장 큰 값의 index를 가져온다.\n",
        "\n",
        "test labels[0]의 값과 같으면 예측을 성공한 것이다."
      ]
    },
    {
      "cell_type": "code",
      "metadata": {
        "id": "0FzMziunlsrQ",
        "colab_type": "code",
        "colab": {
          "base_uri": "https://localhost:8080/",
          "height": 35
        },
        "outputId": "7a4c5c69-2ae3-43b8-ed7e-4e357950cf57"
      },
      "source": [
        "test_labels[0]"
      ],
      "execution_count": 28,
      "outputs": [
        {
          "output_type": "execute_result",
          "data": {
            "text/plain": [
              "9"
            ]
          },
          "metadata": {
            "tags": []
          },
          "execution_count": 28
        }
      ]
    },
    {
      "cell_type": "markdown",
      "metadata": {
        "id": "zEeEqPitlvJp",
        "colab_type": "text"
      },
      "source": [
        "###모든 데이터에 대한 예측을 그래프로 표현해보자"
      ]
    },
    {
      "cell_type": "code",
      "metadata": {
        "id": "Ja1uxLUIl0kO",
        "colab_type": "code",
        "colab": {}
      },
      "source": [
        "def plot_image(i, predictions_arr, true_label, img):\n",
        "    predictions_arr, true_label, img = predictions_arr[i], true_label[i], img[i]\n",
        "    plt.grid(False)\n",
        "    plt.xticks([])\n",
        "    plt.yticks([])\n",
        "\n",
        "    plt.imshow(img, cmap=plt.cm.binary)\n",
        "\n",
        "    predicted_label = np.argmax(predictions_arr)\n",
        "    if predicted_label == true_label:\n",
        "        color = 'blue'\n",
        "    else:\n",
        "        color = 'red'\n",
        "    \n",
        "    plt.xlabel(\"{} {:2.0f}% ({})\".format(class_name[predicted_label],\n",
        "                                         100*np.max(predictions_arr),\n",
        "                                         class_name[true_label]),\n",
        "                                         color=color)\n"
      ],
      "execution_count": 0,
      "outputs": []
    },
    {
      "cell_type": "code",
      "metadata": {
        "id": "P1RNYAuBmlts",
        "colab_type": "code",
        "colab": {}
      },
      "source": [
        "def plot_value_array(i, predictions_array, true_label):\n",
        "    predictions_array, true_label = predictions_array[i], true_label[i]\n",
        "    plt.grid(False)\n",
        "    plt.xticks([])\n",
        "    plt.yticks([])\n",
        "    thisplot = plt.bar(range(10), predictions_array, color=\"#777777\")\n",
        "    plt.ylim([0,1])\n",
        "    predicted_label = np.argmax(predictions_array)\n",
        "\n",
        "    thisplot[predicted_label].set_color('red')\n",
        "    thisplot[true_label].set_color('blue')"
      ],
      "execution_count": 0,
      "outputs": []
    },
    {
      "cell_type": "code",
      "metadata": {
        "id": "4V63hQFenHx8",
        "colab_type": "code",
        "colab": {
          "base_uri": "https://localhost:8080/",
          "height": 203
        },
        "outputId": "1b936eb1-2f07-4e01-b6f8-b31ed4931322"
      },
      "source": [
        "i = 0\n",
        "plt.figure(figsize=(6,3))\n",
        "plt.subplot(121)\n",
        "plot_image(i, predictions, test_labels, test_images)\n",
        "plt.subplot(122)\n",
        "plot_value_array(i, predictions, test_labels)\n",
        "plt.show()"
      ],
      "execution_count": 36,
      "outputs": [
        {
          "output_type": "display_data",
          "data": {
            "image/png": "[encoded data removed]",
            "text/plain": [
              "<Figure size 432x216 with 2 Axes>"
            ]
          },
          "metadata": {
            "tags": []
          }
        }
      ]
    },
    {
      "cell_type": "code",
      "metadata": {
        "id": "7iF7g1VUnalm",
        "colab_type": "code",
        "colab": {
          "base_uri": "https://localhost:8080/",
          "height": 203
        },
        "outputId": "5de729e4-f081-4a79-f2a6-0a28228e2509"
      },
      "source": [
        "i = 12\n",
        "plt.figure(figsize=(6,3))\n",
        "plt.subplot(121)\n",
        "plot_image(i, predictions, test_labels, test_images)\n",
        "plt.subplot(122)\n",
        "plot_value_array(i, predictions, test_labels)\n",
        "plt.show()"
      ],
      "execution_count": 37,
      "outputs": [
        {
          "output_type": "display_data",
          "data": {
            "image/png": "[encoded data removed]",
            "text/plain": [
              "<Figure size 432x216 with 2 Axes>"
            ]
          },
          "metadata": {
            "tags": []
          }
        }
      ]
    },
    {
      "cell_type": "code",
      "metadata": {
        "id": "g2gg6MffnrvU",
        "colab_type": "code",
        "colab": {
          "base_uri": "https://localhost:8080/",
          "height": 589
        },
        "outputId": "251a5fa6-3613-405d-e83b-f587c7868554"
      },
      "source": [
        "# 처음 X 개의 test 이미지와 prediction 레이블, true 레이블을 출력합니다\n",
        "# correct = blue , wrong = red\n",
        "num_rows = 5\n",
        "num_cols = 3\n",
        "num_images = num_rows*num_cols\n",
        "plt.figure(figsize=(2*2*num_cols, 2*num_rows))\n",
        "for i in range(num_images):\n",
        "  plt.subplot(num_rows, 2*num_cols, 2*i+1)\n",
        "  plot_image(i, predictions, test_labels, test_images)\n",
        "  plt.subplot(num_rows, 2*num_cols, 2*i+2)\n",
        "  plot_value_array(i, predictions, test_labels)\n",
        "plt.show()"
      ],
      "execution_count": 38,
      "outputs": [
        {
          "output_type": "display_data",
          "data": {
            "image/png": "[encoded data removed]",
            "text/plain": [
              "<Figure size 864x720 with 30 Axes>"
            ]
          },
          "metadata": {
            "tags": []
          }
        }
      ]
    },
    {
      "cell_type": "code",
      "metadata": {
        "id": "e1VtR37jn6ms",
        "colab_type": "code",
        "colab": {
          "base_uri": "https://localhost:8080/",
          "height": 35
        },
        "outputId": "a5feaaae-c79f-4763-9db9-29690178ec2c"
      },
      "source": [
        "#이미지 데이터 하나에 대한 클래스 그래프 그리기\n",
        "img = test_images[0]\n",
        "print(img.shape)"
      ],
      "execution_count": 43,
      "outputs": [
        {
          "output_type": "stream",
          "text": [
            "(28, 28)\n"
          ],
          "name": "stdout"
        }
      ]
    },
    {
      "cell_type": "code",
      "metadata": {
        "id": "52oviVSgoJmJ",
        "colab_type": "code",
        "colab": {
          "base_uri": "https://localhost:8080/",
          "height": 35
        },
        "outputId": "cffd4d82-898f-46ea-c828-a2df9ab25d06"
      },
      "source": [
        "# keras는 배치로 예측 생성하는 것에 최적화되어있기 때문에 하나의 이미지를 사용하더라도 배치로 만든다.\n",
        "img = (np.expand_dims(img,0))\n",
        "print(img.shape)"
      ],
      "execution_count": 44,
      "outputs": [
        {
          "output_type": "stream",
          "text": [
            "(1, 28, 28)\n"
          ],
          "name": "stdout"
        }
      ]
    },
    {
      "cell_type": "code",
      "metadata": {
        "id": "Io5cx2knoPUv",
        "colab_type": "code",
        "colab": {
          "base_uri": "https://localhost:8080/",
          "height": 53
        },
        "outputId": "535b9977-b295-4bf1-e9f5-21bac4a7f2ce"
      },
      "source": [
        "predictions_single = model.predict(img)\n",
        "print(predictions_single)"
      ],
      "execution_count": 45,
      "outputs": [
        {
          "output_type": "stream",
          "text": [
            "[[4.6170254e-07 3.0368565e-08 4.3655182e-10 1.3947169e-08 2.0108146e-08\n",
            "  3.2602288e-03 4.6017320e-07 2.4508438e-03 6.8657738e-07 9.9428719e-01]]\n"
          ],
          "name": "stdout"
        }
      ]
    },
    {
      "cell_type": "code",
      "metadata": {
        "id": "u_5U5Iqnobgi",
        "colab_type": "code",
        "colab": {
          "base_uri": "https://localhost:8080/",
          "height": 300
        },
        "outputId": "2b5fdca7-9c37-4145-d370-d3aee4868cce"
      },
      "source": [
        "plot_value_array(0, predictions_single, test_labels)\n",
        "_ = plt.xticks(range(10), class_name, rotation=45)"
      ],
      "execution_count": 46,
      "outputs": [
        {
          "output_type": "display_data",
          "data": {
            "image/png": "[encoded data removed]",
            "text/plain": [
              "<Figure size 432x288 with 1 Axes>"
            ]
          },
          "metadata": {
            "tags": []
          }
        }
      ]
    },
    {
      "cell_type": "code",
      "metadata": {
        "id": "yK7Z07Q5opiO",
        "colab_type": "code",
        "colab": {
          "base_uri": "https://localhost:8080/",
          "height": 35
        },
        "outputId": "241fe48c-81a4-4bb7-b50b-8577d90d4513"
      },
      "source": [
        "np.argmax(predictions_single[0])"
      ],
      "execution_count": 47,
      "outputs": [
        {
          "output_type": "execute_result",
          "data": {
            "text/plain": [
              "9"
            ]
          },
          "metadata": {
            "tags": []
          },
          "execution_count": 47
        }
      ]
    },
    {
      "cell_type": "markdown",
      "metadata": {
        "id": "OV8nGpd9owTV",
        "colab_type": "text"
      },
      "source": [
        "예측 그래프에서 나타냈던대로 가장 높은 확률값의 인덱스도 label 9를 나타낸다."
      ]
    },
    {
      "cell_type": "code",
      "metadata": {
        "id": "eTG2F6C7o5NH",
        "colab_type": "code",
        "colab": {}
      },
      "source": [
        ""
      ],
      "execution_count": 0,
      "outputs": []
    }
  ]
}