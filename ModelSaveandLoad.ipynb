{
  "nbformat": 4,
  "nbformat_minor": 0,
  "metadata": {
    "colab": {
      "name": "ModelSaveandLoad.ipynb",
      "provenance": [],
      "collapsed_sections": [],
      "include_colab_link": true
    },
    "kernelspec": {
      "name": "python3",
      "display_name": "Python 3"
    }
  },
  "cells": [
    {
      "cell_type": "markdown",
      "metadata": {
        "id": "view-in-github",
        "colab_type": "text"
      },
      "source": [
        "<a href=\"https://colab.research.google.com/github/JungAh12/Everyone_TF2.0/blob/master/ModelSaveandLoad.ipynb\" target=\"_parent\"><img src=\"https://colab.research.google.com/assets/colab-badge.svg\" alt=\"Open In Colab\"/></a>"
      ]
    },
    {
      "cell_type": "code",
      "metadata": {
        "id": "FmOXCSuYEgDx",
        "colab_type": "code",
        "colab": {
          "base_uri": "https://localhost:8080/",
          "height": 68
        },
        "outputId": "43403f8a-32a5-4d87-aefb-bc444d99360a"
      },
      "source": [
        "!pip install -q h5py pyyaml\n",
        "!pip install -q tensorflow-gpu==2.0.0-rc1"
      ],
      "execution_count": 1,
      "outputs": [
        {
          "output_type": "stream",
          "text": [
            "\u001b[K     |████████████████████████████████| 380.5MB 40kB/s \n",
            "\u001b[K     |████████████████████████████████| 4.3MB 47.5MB/s \n",
            "\u001b[K     |████████████████████████████████| 501kB 56.7MB/s \n",
            "\u001b[?25h"
          ],
          "name": "stdout"
        }
      ]
    },
    {
      "cell_type": "code",
      "metadata": {
        "id": "JjYYzMGtE0fu",
        "colab_type": "code",
        "colab": {
          "base_uri": "https://localhost:8080/",
          "height": 34
        },
        "outputId": "a8fcfa59-d8ab-4229-b263-5274379f7ac4"
      },
      "source": [
        "import os\n",
        "\n",
        "import tensorflow as tf\n",
        "from tensorflow import keras\n",
        "\n",
        "tf.__version__"
      ],
      "execution_count": 2,
      "outputs": [
        {
          "output_type": "execute_result",
          "data": {
            "text/plain": [
              "'2.0.0-rc1'"
            ]
          },
          "metadata": {
            "tags": []
          },
          "execution_count": 2
        }
      ]
    },
    {
      "cell_type": "code",
      "metadata": {
        "id": "LZvd1PE3E41q",
        "colab_type": "code",
        "colab": {
          "base_uri": "https://localhost:8080/",
          "height": 71
        },
        "outputId": "f3aa2efd-ec63-4d6f-c749-410f6a020264"
      },
      "source": [
        "# data load\n",
        "(train_images, train_labels), (test_images, test_labels) = tf.keras.datasets.mnist.load_data()\n",
        "\n",
        "train_labels = train_labels[:1000]\n",
        "test_labels = test_labels[:1000]\n",
        "\n",
        "train_images = train_images[:1000].reshape(-1, 28*28)/255.0\n",
        "test_images = test_images[:1000].reshape(-1, 28*28)/255.0"
      ],
      "execution_count": 3,
      "outputs": [
        {
          "output_type": "stream",
          "text": [
            "Downloading data from https://storage.googleapis.com/tensorflow/tf-keras-datasets/mnist.npz\n",
            "11493376/11490434 [==============================] - 0s 0us/step\n"
          ],
          "name": "stdout"
        }
      ]
    },
    {
      "cell_type": "markdown",
      "metadata": {
        "id": "RxG4tbYWFN0g",
        "colab_type": "text"
      },
      "source": [
        "#define model"
      ]
    },
    {
      "cell_type": "code",
      "metadata": {
        "id": "J9QJDs8RFSkv",
        "colab_type": "code",
        "colab": {}
      },
      "source": [
        "def create_model():\n",
        "    model = keras.Sequential([\n",
        "                              keras.layers.Dense(512, activation='relu', input_shape=(784,)),\n",
        "                              keras.layers.Dropout(0.2),\n",
        "                              keras.layers.Dense(10, activation='softmax')\n",
        "    ])\n",
        "\n",
        "    model.compile(optimizer='adam',\n",
        "                  loss = 'sparse_categorical_crossentropy',\n",
        "                  metrics=['accuracy'])\n",
        "    return model"
      ],
      "execution_count": 0,
      "outputs": []
    },
    {
      "cell_type": "code",
      "metadata": {
        "id": "BT73KYXjFpFy",
        "colab_type": "code",
        "colab": {
          "base_uri": "https://localhost:8080/",
          "height": 255
        },
        "outputId": "eec514cf-875f-4917-d07c-31a1aea6ca5e"
      },
      "source": [
        "model = create_model()\n",
        "model.summary()"
      ],
      "execution_count": 10,
      "outputs": [
        {
          "output_type": "stream",
          "text": [
            "Model: \"sequential_1\"\n",
            "_________________________________________________________________\n",
            "Layer (type)                 Output Shape              Param #   \n",
            "=================================================================\n",
            "dense_2 (Dense)              (None, 512)               401920    \n",
            "_________________________________________________________________\n",
            "dropout_1 (Dropout)          (None, 512)               0         \n",
            "_________________________________________________________________\n",
            "dense_3 (Dense)              (None, 10)                5130      \n",
            "=================================================================\n",
            "Total params: 407,050\n",
            "Trainable params: 407,050\n",
            "Non-trainable params: 0\n",
            "_________________________________________________________________\n"
          ],
          "name": "stdout"
        }
      ]
    },
    {
      "cell_type": "markdown",
      "metadata": {
        "id": "UCDqVJ0xFs1W",
        "colab_type": "text"
      },
      "source": [
        "#save checkpoint"
      ]
    },
    {
      "cell_type": "code",
      "metadata": {
        "id": "CY5U1OZlGPoR",
        "colab_type": "code",
        "colab": {
          "base_uri": "https://localhost:8080/",
          "height": 751
        },
        "outputId": "ead55f0c-d440-4de0-8919-8868c249e742"
      },
      "source": [
        "checkpoint_path = 'training_1/cp.ckpt'\n",
        "checkpoint_dir = os.path.dirname(checkpoint_path)\n",
        "\n",
        "cp_callback = tf.keras.callbacks.ModelCheckpoint(checkpoint_path,\n",
        "                                                 save_weights_only=True,\n",
        "                                                 verbose=1)\n",
        "model.fit(train_images, train_labels, epochs=10,\n",
        "          validation_data=(test_images, test_labels),\n",
        "          callbacks=[cp_callback])  # 훈련 단계에 콜백 전달"
      ],
      "execution_count": 11,
      "outputs": [
        {
          "output_type": "stream",
          "text": [
            "Train on 1000 samples, validate on 1000 samples\n",
            "Epoch 1/10\n",
            " 960/1000 [===========================>..] - ETA: 0s - loss: 1.1828 - accuracy: 0.6625\n",
            "Epoch 00001: saving model to training_1/cp.ckpt\n",
            "1000/1000 [==============================] - 1s 850us/sample - loss: 1.1553 - accuracy: 0.6690 - val_loss: 0.7228 - val_accuracy: 0.7840\n",
            "Epoch 2/10\n",
            " 928/1000 [==========================>...] - ETA: 0s - loss: 0.4408 - accuracy: 0.8858\n",
            "Epoch 00002: saving model to training_1/cp.ckpt\n",
            "1000/1000 [==============================] - 0s 308us/sample - loss: 0.4315 - accuracy: 0.8890 - val_loss: 0.5277 - val_accuracy: 0.8340\n",
            "Epoch 3/10\n",
            " 896/1000 [=========================>....] - ETA: 0s - loss: 0.2726 - accuracy: 0.9342\n",
            "Epoch 00003: saving model to training_1/cp.ckpt\n",
            "1000/1000 [==============================] - 0s 305us/sample - loss: 0.2813 - accuracy: 0.9310 - val_loss: 0.4563 - val_accuracy: 0.8580\n",
            "Epoch 4/10\n",
            " 864/1000 [========================>.....] - ETA: 0s - loss: 0.1927 - accuracy: 0.9583\n",
            "Epoch 00004: saving model to training_1/cp.ckpt\n",
            "1000/1000 [==============================] - 0s 304us/sample - loss: 0.1927 - accuracy: 0.9590 - val_loss: 0.4422 - val_accuracy: 0.8630\n",
            "Epoch 5/10\n",
            " 896/1000 [=========================>....] - ETA: 0s - loss: 0.1403 - accuracy: 0.9676\n",
            "Epoch 00005: saving model to training_1/cp.ckpt\n",
            "1000/1000 [==============================] - 0s 323us/sample - loss: 0.1457 - accuracy: 0.9660 - val_loss: 0.4109 - val_accuracy: 0.8700\n",
            "Epoch 6/10\n",
            " 992/1000 [============================>.] - ETA: 0s - loss: 0.1082 - accuracy: 0.9849\n",
            "Epoch 00006: saving model to training_1/cp.ckpt\n",
            "1000/1000 [==============================] - 0s 279us/sample - loss: 0.1076 - accuracy: 0.9850 - val_loss: 0.4203 - val_accuracy: 0.8590\n",
            "Epoch 7/10\n",
            " 928/1000 [==========================>...] - ETA: 0s - loss: 0.0810 - accuracy: 0.9838\n",
            "Epoch 00007: saving model to training_1/cp.ckpt\n",
            "1000/1000 [==============================] - 0s 301us/sample - loss: 0.0812 - accuracy: 0.9840 - val_loss: 0.4251 - val_accuracy: 0.8640\n",
            "Epoch 8/10\n",
            " 928/1000 [==========================>...] - ETA: 0s - loss: 0.0570 - accuracy: 0.9957\n",
            "Epoch 00008: saving model to training_1/cp.ckpt\n",
            "1000/1000 [==============================] - 0s 307us/sample - loss: 0.0626 - accuracy: 0.9930 - val_loss: 0.3995 - val_accuracy: 0.8680\n",
            "Epoch 9/10\n",
            " 864/1000 [========================>.....] - ETA: 0s - loss: 0.0560 - accuracy: 0.9931\n",
            "Epoch 00009: saving model to training_1/cp.ckpt\n",
            "1000/1000 [==============================] - 0s 298us/sample - loss: 0.0541 - accuracy: 0.9930 - val_loss: 0.4339 - val_accuracy: 0.8610\n",
            "Epoch 10/10\n",
            " 992/1000 [============================>.] - ETA: 0s - loss: 0.0426 - accuracy: 0.9960\n",
            "Epoch 00010: saving model to training_1/cp.ckpt\n",
            "1000/1000 [==============================] - 0s 288us/sample - loss: 0.0427 - accuracy: 0.9960 - val_loss: 0.4047 - val_accuracy: 0.8710\n"
          ],
          "name": "stdout"
        },
        {
          "output_type": "execute_result",
          "data": {
            "text/plain": [
              "<tensorflow.python.keras.callbacks.History at 0x7f8e0fe5f080>"
            ]
          },
          "metadata": {
            "tags": []
          },
          "execution_count": 11
        }
      ]
    },
    {
      "cell_type": "code",
      "metadata": {
        "id": "jaZkCobSGwNB",
        "colab_type": "code",
        "colab": {
          "base_uri": "https://localhost:8080/",
          "height": 34
        },
        "outputId": "8e94afa7-05a4-45ab-af11-413c698f501a"
      },
      "source": [
        "!ls {checkpoint_dir}"
      ],
      "execution_count": 12,
      "outputs": [
        {
          "output_type": "stream",
          "text": [
            "checkpoint  cp.ckpt.data-00000-of-00001  cp.ckpt.index\n"
          ],
          "name": "stdout"
        }
      ]
    },
    {
      "cell_type": "code",
      "metadata": {
        "id": "pu323AiaG1l6",
        "colab_type": "code",
        "colab": {
          "base_uri": "https://localhost:8080/",
          "height": 51
        },
        "outputId": "e57fdfa9-13b3-4f9a-e6cb-ceac44568aa0"
      },
      "source": [
        "model = create_model()  #훈련되지 않은 모델\n",
        "\n",
        "loss, acc = model.evaluate(test_images, test_labels, verbose=2)\n",
        "print(\"훈련되지 않은 모델의 정확도 : {:5.2f}%\".format(100*acc))"
      ],
      "execution_count": 15,
      "outputs": [
        {
          "output_type": "stream",
          "text": [
            "1000/1 - 0s - loss: 2.3616 - accuracy: 0.1280\n",
            "훈련되지 않은 모델의 정확도 : 12.80%\n"
          ],
          "name": "stdout"
        }
      ]
    },
    {
      "cell_type": "markdown",
      "metadata": {
        "id": "ji-Hji4JHIkR",
        "colab_type": "text"
      },
      "source": [
        "#체크포인트에서 가중치 로드하고 evaluation"
      ]
    },
    {
      "cell_type": "code",
      "metadata": {
        "id": "Ehng4LEEHTIj",
        "colab_type": "code",
        "colab": {
          "base_uri": "https://localhost:8080/",
          "height": 51
        },
        "outputId": "72035803-ab5d-4f52-9c1e-adde7f20332f"
      },
      "source": [
        "model.load_weights(checkpoint_path)\n",
        "loss, acc = model.evaluate(test_images, test_labels, verbose=2)\n",
        "print(\"로드한 모델 정확도 : {:5.2f}%\".format(100*acc))"
      ],
      "execution_count": 16,
      "outputs": [
        {
          "output_type": "stream",
          "text": [
            "1000/1 - 0s - loss: 0.3595 - accuracy: 0.8710\n",
            "로드한 모델 정확도 : 87.10%\n"
          ],
          "name": "stdout"
        }
      ]
    },
    {
      "cell_type": "markdown",
      "metadata": {
        "id": "KCRbvx2qHe6r",
        "colab_type": "text"
      },
      "source": [
        "#checkpoint callback method\n",
        "\n",
        "콜백함수는 몇 가지 매개변수를 제공한다.\n",
        "\n",
        "체크포인트 이름을 고유하게 만들거나 체크포인트 주기를 조정할 수 있다.\n",
        "\n",
        "모델 훈련하고 5번 에포크마다 고유한 이름으로 체크포인트 저장."
      ]
    },
    {
      "cell_type": "code",
      "metadata": {
        "id": "BxFSZUyYHtQ1",
        "colab_type": "code",
        "colab": {
          "base_uri": "https://localhost:8080/",
          "height": 581
        },
        "outputId": "a8f5267c-7036-4f53-f277-24eff4cef19a"
      },
      "source": [
        "checkpoint_path = 'training_2/cp-{epoch:04d}.ckpt'\n",
        "checkpoint_dir = os.path.dirname(checkpoint_path)\n",
        "\n",
        "cp_callback = tf.keras.callbacks.ModelCheckpoint(\n",
        "    checkpoint_path, verbose=1, save_weight_only=True, period=5\n",
        ")   #period 몇번째마다 저장할 것인지\n",
        "#save_freq 사용하라는 경고가 뜨는데 save_freq=5하면 5단위로 저장안된다.\n",
        "\n",
        "model = create_model()\n",
        "model.save_weights(checkpoint_path.format(epoch=0))\n",
        "model.fit(train_images, train_labels, epochs=50, callbacks=[cp_callback],validation_data=(test_images, test_labels),verbose=0)"
      ],
      "execution_count": 45,
      "outputs": [
        {
          "output_type": "stream",
          "text": [
            "WARNING:tensorflow:`period` argument is deprecated. Please use `save_freq` to specify the frequency in number of samples seen.\n",
            "\n",
            "Epoch 00005: saving model to training_2/cp-0005.ckpt\n",
            "INFO:tensorflow:Assets written to: training_2/cp-0005.ckpt/assets\n",
            "\n",
            "Epoch 00010: saving model to training_2/cp-0010.ckpt\n",
            "INFO:tensorflow:Assets written to: training_2/cp-0010.ckpt/assets\n",
            "\n",
            "Epoch 00015: saving model to training_2/cp-0015.ckpt\n",
            "INFO:tensorflow:Assets written to: training_2/cp-0015.ckpt/assets\n",
            "\n",
            "Epoch 00020: saving model to training_2/cp-0020.ckpt\n",
            "INFO:tensorflow:Assets written to: training_2/cp-0020.ckpt/assets\n",
            "\n",
            "Epoch 00025: saving model to training_2/cp-0025.ckpt\n",
            "INFO:tensorflow:Assets written to: training_2/cp-0025.ckpt/assets\n",
            "\n",
            "Epoch 00030: saving model to training_2/cp-0030.ckpt\n",
            "INFO:tensorflow:Assets written to: training_2/cp-0030.ckpt/assets\n",
            "\n",
            "Epoch 00035: saving model to training_2/cp-0035.ckpt\n",
            "INFO:tensorflow:Assets written to: training_2/cp-0035.ckpt/assets\n",
            "\n",
            "Epoch 00040: saving model to training_2/cp-0040.ckpt\n",
            "INFO:tensorflow:Assets written to: training_2/cp-0040.ckpt/assets\n",
            "\n",
            "Epoch 00045: saving model to training_2/cp-0045.ckpt\n",
            "INFO:tensorflow:Assets written to: training_2/cp-0045.ckpt/assets\n",
            "\n",
            "Epoch 00050: saving model to training_2/cp-0050.ckpt\n",
            "INFO:tensorflow:Assets written to: training_2/cp-0050.ckpt/assets\n"
          ],
          "name": "stdout"
        },
        {
          "output_type": "execute_result",
          "data": {
            "text/plain": [
              "<tensorflow.python.keras.callbacks.History at 0x7f8d6288c208>"
            ]
          },
          "metadata": {
            "tags": []
          },
          "execution_count": 45
        }
      ]
    },
    {
      "cell_type": "code",
      "metadata": {
        "id": "y0LtRm0oITsW",
        "colab_type": "code",
        "colab": {
          "base_uri": "https://localhost:8080/",
          "height": 122
        },
        "outputId": "01bdd0f8-2503-4302-ae6c-6f6841157e88"
      },
      "source": [
        "!ls {checkpoint_dir}\n",
        "latest = tf.train.latest_checkpoint(checkpoint_dir)\n",
        "latest  #왜 마지막이 선택이 안되는 거지..?"
      ],
      "execution_count": 50,
      "outputs": [
        {
          "output_type": "stream",
          "text": [
            "checkpoint\t\t\t  cp-0010.ckpt\tcp-0030.ckpt  cp-0050.ckpt\n",
            "cp-0000.ckpt.data-00000-of-00001  cp-0015.ckpt\tcp-0035.ckpt\n",
            "cp-0000.ckpt.index\t\t  cp-0020.ckpt\tcp-0040.ckpt\n",
            "cp-0005.ckpt\t\t\t  cp-0025.ckpt\tcp-0045.ckpt\n"
          ],
          "name": "stdout"
        },
        {
          "output_type": "execute_result",
          "data": {
            "text/plain": [
              "'training_2/cp-0000.ckpt'"
            ]
          },
          "metadata": {
            "tags": []
          },
          "execution_count": 50
        }
      ]
    },
    {
      "cell_type": "code",
      "metadata": {
        "id": "EwFLDqV8KObQ",
        "colab_type": "code",
        "colab": {
          "base_uri": "https://localhost:8080/",
          "height": 51
        },
        "outputId": "3f50ac44-877b-43ff-9107-4cdbd2da596f"
      },
      "source": [
        "model = create_model()\n",
        "model.load_weights(latest)\n",
        "loss, acc = model.evaluate(test_images, test_labels, verbose=2)\n",
        "print(\"복원 모델 정확도 : {:5.2f}%\".format(100*acc))"
      ],
      "execution_count": 51,
      "outputs": [
        {
          "output_type": "stream",
          "text": [
            "1000/1 - 0s - loss: 2.2585 - accuracy: 0.1340\n",
            "복원 모델 정확도 : 13.40%\n"
          ],
          "name": "stdout"
        }
      ]
    },
    {
      "cell_type": "markdown",
      "metadata": {
        "id": "vsk-3ql_KjKG",
        "colab_type": "text"
      },
      "source": [
        "#수동 가중치 저장"
      ]
    },
    {
      "cell_type": "code",
      "metadata": {
        "id": "mF68PnmBN2D0",
        "colab_type": "code",
        "colab": {
          "base_uri": "https://localhost:8080/",
          "height": 51
        },
        "outputId": "f6cabef0-da31-40d4-86db-fda90b39dd2a"
      },
      "source": [
        "model.save_weights('./checkpoints/my_checkpoint')\n",
        "\n",
        "model = create_model()\n",
        "model.load_weights('./checkpoints/my_checkpoint')\n",
        "\n",
        "loss,acc = model.evaluate(test_images, test_labels, verbose=2)\n",
        "print(\"로드된 모델 정확도 : {:5.2f}%\".format(100*acc))"
      ],
      "execution_count": 52,
      "outputs": [
        {
          "output_type": "stream",
          "text": [
            "1000/1 - 0s - loss: 2.2585 - accuracy: 0.1340\n",
            "로드된 모델 정확도 : 13.40%\n"
          ],
          "name": "stdout"
        }
      ]
    },
    {
      "cell_type": "markdown",
      "metadata": {
        "id": "Xl1jUTNwOJNz",
        "colab_type": "text"
      },
      "source": [
        "#모델 전체 저장하기\n",
        "가중치, 모델구성, 옵티마이저 설정까지 포함해서 저장한다."
      ]
    },
    {
      "cell_type": "code",
      "metadata": {
        "id": "4FbrJijhOSY7",
        "colab_type": "code",
        "colab": {
          "base_uri": "https://localhost:8080/",
          "height": 224
        },
        "outputId": "915ffcd0-2a5f-45bf-d877-3bfaa61c9bd0"
      },
      "source": [
        "#keras는 HDF5표준을 따르는 기본 저장 포맷을 제공한다.\n",
        "model = create_model()\n",
        "model.fit(train_images, train_labels, epochs=5)\n",
        "\n",
        "model.save('my_model.h5')"
      ],
      "execution_count": 53,
      "outputs": [
        {
          "output_type": "stream",
          "text": [
            "Train on 1000 samples\n",
            "Epoch 1/5\n",
            "1000/1000 [==============================] - 1s 539us/sample - loss: 1.1647 - accuracy: 0.6590\n",
            "Epoch 2/5\n",
            "1000/1000 [==============================] - 0s 189us/sample - loss: 0.4018 - accuracy: 0.8910\n",
            "Epoch 3/5\n",
            "1000/1000 [==============================] - 0s 197us/sample - loss: 0.3110 - accuracy: 0.9060\n",
            "Epoch 4/5\n",
            "1000/1000 [==============================] - 0s 185us/sample - loss: 0.2111 - accuracy: 0.9520\n",
            "Epoch 5/5\n",
            "1000/1000 [==============================] - 0s 190us/sample - loss: 0.1569 - accuracy: 0.9630\n"
          ],
          "name": "stdout"
        }
      ]
    },
    {
      "cell_type": "code",
      "metadata": {
        "id": "0wyLByUfOg_h",
        "colab_type": "code",
        "colab": {
          "base_uri": "https://localhost:8080/",
          "height": 326
        },
        "outputId": "cecbb7d7-aee3-4746-ad97-a6ace35401c5"
      },
      "source": [
        "#load\n",
        "new_model = keras.models.load_model('my_model.h5')\n",
        "new_model.summary()"
      ],
      "execution_count": 54,
      "outputs": [
        {
          "output_type": "stream",
          "text": [
            "WARNING:tensorflow:From /usr/local/lib/python3.6/dist-packages/tensorflow_core/python/ops/math_grad.py:1424: where (from tensorflow.python.ops.array_ops) is deprecated and will be removed in a future version.\n",
            "Instructions for updating:\n",
            "Use tf.where in 2.0, which has the same broadcast rule as np.where\n",
            "Model: \"sequential_16\"\n",
            "_________________________________________________________________\n",
            "Layer (type)                 Output Shape              Param #   \n",
            "=================================================================\n",
            "dense_32 (Dense)             (None, 512)               401920    \n",
            "_________________________________________________________________\n",
            "dropout_16 (Dropout)         (None, 512)               0         \n",
            "_________________________________________________________________\n",
            "dense_33 (Dense)             (None, 10)                5130      \n",
            "=================================================================\n",
            "Total params: 407,050\n",
            "Trainable params: 407,050\n",
            "Non-trainable params: 0\n",
            "_________________________________________________________________\n"
          ],
          "name": "stdout"
        }
      ]
    },
    {
      "cell_type": "code",
      "metadata": {
        "id": "0_whPP1HOqhE",
        "colab_type": "code",
        "colab": {
          "base_uri": "https://localhost:8080/",
          "height": 51
        },
        "outputId": "9545c270-2082-41c7-d80d-ba1a41632f48"
      },
      "source": [
        "loss, acc = new_model.evaluate(test_images, test_labels, verbose=2)\n",
        "print(\"로드 모델 정확도 : {:5.2f}%\".format(100*acc))"
      ],
      "execution_count": 55,
      "outputs": [
        {
          "output_type": "stream",
          "text": [
            "1000/1 - 0s - loss: 0.5785 - accuracy: 0.8570\n",
            "로드 모델 정확도 : 85.70%\n"
          ],
          "name": "stdout"
        }
      ]
    }
  ]
}