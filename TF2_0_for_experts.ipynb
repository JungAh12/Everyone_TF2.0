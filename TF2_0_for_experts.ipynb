{
  "nbformat": 4,
  "nbformat_minor": 0,
  "metadata": {
    "colab": {
      "name": "TF2.0_for_experts",
      "provenance": [],
      "include_colab_link": true
    },
    "kernelspec": {
      "name": "python3",
      "display_name": "Python 3"
    }
  },
  "cells": [
    {
      "cell_type": "markdown",
      "metadata": {
        "id": "view-in-github",
        "colab_type": "text"
      },
      "source": [
        "<a href=\"https://colab.research.google.com/github/JungAh12/Everyone_TF2.0/blob/master/TF2_0_for_experts.ipynb\" target=\"_parent\"><img src=\"https://colab.research.google.com/assets/colab-badge.svg\" alt=\"Open In Colab\"/></a>"
      ]
    },
    {
      "cell_type": "markdown",
      "metadata": {
        "id": "UAXYFeX-jaXr",
        "colab_type": "text"
      },
      "source": [
        "#Tensorflow import"
      ]
    },
    {
      "cell_type": "code",
      "metadata": {
        "id": "_ksb9BX3juQx",
        "colab_type": "code",
        "colab": {
          "base_uri": "https://localhost:8080/",
          "height": 71
        },
        "outputId": "09403f76-f805-4834-f7a6-52b906aac55c"
      },
      "source": [
        "!pip install -q tensorflow-gpu==2.0.0-rc1\n",
        "import tensorflow as tf\n",
        "\n",
        "from tensorflow.keras.layers import Dense, Flatten, Conv2D\n",
        "from tensorflow.keras import Model"
      ],
      "execution_count": 1,
      "outputs": [
        {
          "output_type": "stream",
          "text": [
            "\u001b[K     |████████████████████████████████| 380.5MB 38kB/s \n",
            "\u001b[K     |████████████████████████████████| 4.3MB 33.8MB/s \n",
            "\u001b[K     |████████████████████████████████| 501kB 50.3MB/s \n",
            "\u001b[?25h"
          ],
          "name": "stdout"
        }
      ]
    },
    {
      "cell_type": "markdown",
      "metadata": {
        "id": "8TrTXLxRj59a",
        "colab_type": "text"
      },
      "source": [
        "#MNIST 데이터셋 준비하기"
      ]
    },
    {
      "cell_type": "code",
      "metadata": {
        "id": "LkcCykGQkAYt",
        "colab_type": "code",
        "colab": {
          "base_uri": "https://localhost:8080/",
          "height": 89
        },
        "outputId": "5c7401a5-6c63-4dfa-9704-c12efd9758f6"
      },
      "source": [
        "mnist = tf.keras.datasets.mnist\n",
        "\n",
        "(x_train, y_train),(x_test, y_test) = mnist.load_data()\n",
        "x_train,x_test = x_train/255.0, x_test/255.0    # normalization\n",
        "\n",
        "print(x_train.shape)\n",
        "print(x_test.shape)\n",
        "\n",
        "# 채널 차원 추가하기(tf.newaxis = 차원 추가)\n",
        "x_train = x_train[..., tf.newaxis]\n",
        "x_test = x_test[..., tf.newaxis]\n",
        "print(x_train.shape)\n",
        "print(x_test.shape)"
      ],
      "execution_count": 3,
      "outputs": [
        {
          "output_type": "stream",
          "text": [
            "(60000, 28, 28)\n",
            "(10000, 28, 28)\n",
            "(60000, 28, 28, 1)\n",
            "(10000, 28, 28, 1)\n"
          ],
          "name": "stdout"
        }
      ]
    },
    {
      "cell_type": "markdown",
      "metadata": {
        "id": "NJYIgJugkkEC",
        "colab_type": "text"
      },
      "source": [
        "#데이터셋 섞고 배치 생성"
      ]
    },
    {
      "cell_type": "code",
      "metadata": {
        "id": "A5bcrWYAk1qc",
        "colab_type": "code",
        "colab": {}
      },
      "source": [
        "train_dataset = tf.data.Dataset.from_tensor_slices(\n",
        "    (x_train, y_train)).shuffle(10000).batch(32)    # 함수 체이닝으로 \n",
        "test_dataset = tf.data.Dataset.from_tensor_slices(\n",
        "    (x_test, y_test)).batch(32)"
      ],
      "execution_count": 0,
      "outputs": []
    },
    {
      "cell_type": "markdown",
      "metadata": {
        "id": "dTIeVAcom7wg",
        "colab_type": "text"
      },
      "source": [
        "#Kears 사용하여 모델 생성"
      ]
    },
    {
      "cell_type": "code",
      "metadata": {
        "id": "mKAlC36PnB-A",
        "colab_type": "code",
        "colab": {}
      },
      "source": [
        "class MyModel(Model):\n",
        "    def __init__(self):\n",
        "        super(MyModel, self).__init__()\n",
        "        self.conv1 = Conv2D(32, 3, activation='relu')\n",
        "        self.flatten = Flatten()\n",
        "        self.d1 = Dense(128, activation='relu')\n",
        "        self.d2 = Dense(10, activation='softmax')\n",
        "\n",
        "    def call(self, x):\n",
        "        x = self.conv1(x)\n",
        "        x = self.flatten(x)\n",
        "        x = self.d1(x)\n",
        "        return self.d2(x)\n",
        "\n",
        "model = MyModel()"
      ],
      "execution_count": 0,
      "outputs": []
    },
    {
      "cell_type": "markdown",
      "metadata": {
        "id": "gcLl8v6sngaG",
        "colab_type": "text"
      },
      "source": [
        "# optimizer, loss 설정"
      ]
    },
    {
      "cell_type": "code",
      "metadata": {
        "id": "wCorjI4FoGqO",
        "colab_type": "code",
        "colab": {}
      },
      "source": [
        "loss_object = tf.keras.losses.SparseCategoricalCrossentropy()\n",
        "optimizer = tf.keras.optimizers.Adam()"
      ],
      "execution_count": 0,
      "outputs": []
    },
    {
      "cell_type": "markdown",
      "metadata": {
        "id": "Xmn2666toMEp",
        "colab_type": "text"
      },
      "source": [
        "#loss, performance metric 설정"
      ]
    },
    {
      "cell_type": "code",
      "metadata": {
        "id": "dOwbrx1loTgy",
        "colab_type": "code",
        "colab": {}
      },
      "source": [
        "train_loss = tf.keras.metrics.Mean(name='train_loss')\n",
        "train_accuracy = tf.keras.metrics.SparseCategoricalAccuracy(name='train_accuracy')\n",
        "\n",
        "test_loss = tf.keras.metrics.Mean(name='test_loss')\n",
        "test_accuracy = tf.keras.metrics.SparseCategoricalAccuracy(name='test_accuracy')"
      ],
      "execution_count": 0,
      "outputs": []
    },
    {
      "cell_type": "markdown",
      "metadata": {
        "id": "P0RT-hQJollT",
        "colab_type": "text"
      },
      "source": [
        "#초보자용 튜토리얼과의 차이\n",
        "\n",
        "초보자용 코드\n",
        "\n",
        "```python\n",
        "model = tf.keras.models.Sequential([\n",
        "    tf.keras.layers.Flatten(input_shape=(28, 28)),\n",
        "    tf.keras.layers.Dense(128, activation='relu'),\n",
        "    tf.keras.layers.Dropout(0.2),\n",
        "    tf.keras.layers.Dense(10, activation='softmax')\n",
        "])\n",
        "\n",
        "model.compile(optimizer='adam',\n",
        "              loss='sparse_categorical_crossentropy',\n",
        "              metrics=['accuracy'])\n",
        "```\n",
        "\n",
        "전문가용 코드\n",
        "```python\n",
        "class MyModel(Model):\n",
        "    def __init__(self):\n",
        "        super(MyModel, self).__init__()\n",
        "        self.conv1 = Conv2D(32, 3, activation='relu')\n",
        "        self.flatten = Flatten()\n",
        "        self.d1 = Dense(128, activation='relu')\n",
        "        self.d2 = Dense(10, activation='softmax')\n",
        "\n",
        "    def call(self, x):\n",
        "        x = self.conv1(x)\n",
        "        x = self.flatten(x)\n",
        "        x = self.d1(x)\n",
        "        return self.d2(x)\n",
        "\n",
        "model = MyModel()\n",
        "\n",
        "loss_object = tf.keras.losses.SparseCategoricalCrossentropy()\n",
        "optimizer = tf.keras.optimizers.Adam()\n",
        "\n",
        "train_loss = tf.keras.metrics.Mean(name='train_loss')\n",
        "train_accuracy = tf.keras.metrics.SparseCategoricalAccuracy(name='train_accuracy')\n",
        "\n",
        "test_loss = tf.keras.metrics.Mean(name='test_loss')\n",
        "test_accuracy = tf.keras.metrics.SparseCategoricalAccuracy(name='test_accuracy')\n",
        "```\n",
        "\n",
        "PyTorch와 똑같아 보이는데..??"
      ]
    },
    {
      "cell_type": "markdown",
      "metadata": {
        "id": "Aq-ZTnUgp8a8",
        "colab_type": "text"
      },
      "source": [
        "#모델 훈련\n",
        "\n",
        "`train_step`함수는 example과 label을 데이터로 받는다.\n",
        "`with tf.GradientTape() as tape`로 GradientTape를 사용한다. \n",
        "\n",
        "GradientTape에 대해서는 추후에.."
      ]
    },
    {
      "cell_type": "code",
      "metadata": {
        "id": "5xKBolvDqG4p",
        "colab_type": "code",
        "colab": {}
      },
      "source": [
        "@tf.function\n",
        "def train_step(images, labels):\n",
        "    with tf.GradientTape() as tape:\n",
        "        predictions = model(images)\n",
        "        loss = loss_object(labels, predictions)\n",
        "    gradients = tape.gradient(loss, model.trainable_variables)\n",
        "    optimizer.apply_gradients(zip(gradients, model.trainable_variables))\n",
        "\n",
        "    train_loss(loss)\n",
        "    train_accuracy(labels, predictions)"
      ],
      "execution_count": 0,
      "outputs": []
    },
    {
      "cell_type": "markdown",
      "metadata": {
        "id": "wJKHAtGEsg2o",
        "colab_type": "text"
      },
      "source": [
        "#모델 테스트"
      ]
    },
    {
      "cell_type": "code",
      "metadata": {
        "id": "f8EKGXWUsjG1",
        "colab_type": "code",
        "colab": {}
      },
      "source": [
        "@tf.function\n",
        "def test_step(images, labels):\n",
        "    predictions = model(images)\n",
        "    t_loss = loss_object(labels, predictions)\n",
        "\n",
        "    test_loss(t_loss)\n",
        "    test_accuracy(labels, predictions)\n"
      ],
      "execution_count": 0,
      "outputs": []
    },
    {
      "cell_type": "code",
      "metadata": {
        "id": "YHkLr-Xus7aG",
        "colab_type": "code",
        "colab": {
          "base_uri": "https://localhost:8080/",
          "height": 107
        },
        "outputId": "a07b86e0-aafe-42cf-9302-3028b04ae028"
      },
      "source": [
        "EPOCHS = 5  #학습 반복 수\n",
        "\n",
        "for epoch in range(EPOCHS):\n",
        "    for images, labels in train_dataset:    #학습 배치 꺼내서 학습함\n",
        "        train_step(images, labels)\n",
        "    \n",
        "    for test_images, test_labels in test_dataset:   #테스트 배치 꺼내서 학습\n",
        "        test_step(test_images, test_labels)\n",
        "\n",
        "    template = 'epoch:{}, loss:{}, acc:{}, t_loss:{}, t_acc:{}'\n",
        "    #각 epoch 당 학습 손실값과 정확도값, 테스트 손실값, 정확도값\n",
        "    print(template.format(epoch+1,\n",
        "                          train_loss.result(),\n",
        "                          train_accuracy.result()*100,\n",
        "                          test_loss.result(),\n",
        "                          test_accuracy.result()*100))"
      ],
      "execution_count": 16,
      "outputs": [
        {
          "output_type": "stream",
          "text": [
            "epoch:1, loss:0.13788779079914093, acc:95.79499816894531, t_loss:0.07063054293394089, t_acc:97.68000030517578\n",
            "epoch:2, loss:0.0915590301156044, acc:97.18582916259766, t_loss:0.0605606772005558, t_acc:98.01499938964844\n",
            "epoch:3, loss:0.06845221668481827, acc:97.89999389648438, t_loss:0.060715511441230774, t_acc:98.02333068847656\n",
            "epoch:4, loss:0.0546390525996685, acc:98.31458282470703, t_loss:0.06475825607776642, t_acc:98.0199966430664\n",
            "epoch:5, loss:0.045788560062646866, acc:98.58100128173828, t_loss:0.06326403468847275, t_acc:98.09600067138672\n"
          ],
          "name": "stdout"
        }
      ]
    },
    {
      "cell_type": "code",
      "metadata": {
        "id": "dhko8nD0t1Q8",
        "colab_type": "code",
        "colab": {}
      },
      "source": [
        ""
      ],
      "execution_count": 0,
      "outputs": []
    }
  ]
}